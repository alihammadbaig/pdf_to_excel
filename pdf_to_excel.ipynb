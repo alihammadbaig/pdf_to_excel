{
  "nbformat": 4,
  "nbformat_minor": 0,
  "metadata": {
    "colab": {
      "name": "pdf_to_excel",
      "version": "0.3.2",
      "provenance": [],
      "include_colab_link": true
    },
    "kernelspec": {
      "name": "python3",
      "display_name": "Python 3"
    }
  },
  "cells": [
    {
      "cell_type": "markdown",
      "metadata": {
        "id": "view-in-github",
        "colab_type": "text"
      },
      "source": [
        "<a href=\"https://colab.research.google.com/github/alihammadbaig/pdf_to_excel/blob/master/pdf_to_excel.ipynb\" target=\"_parent\"><img src=\"https://colab.research.google.com/assets/colab-badge.svg\" alt=\"Open In Colab\"/></a>"
      ]
    },
    {
      "cell_type": "code",
      "metadata": {
        "id": "A10izPzRDa89",
        "colab_type": "code",
        "outputId": "87340e03-1e71-4394-d7a6-66d48caba115",
        "colab": {
          "base_uri": "https://localhost:8080/",
          "height": 34
        }
      },
      "source": [
        "from google.colab import drive\n",
        "drive.mount('/content/gdrive')\n"
      ],
      "execution_count": 0,
      "outputs": [
        {
          "output_type": "stream",
          "text": [
            "Drive already mounted at /content/gdrive; to attempt to forcibly remount, call drive.mount(\"/content/gdrive\", force_remount=True).\n"
          ],
          "name": "stdout"
        }
      ]
    },
    {
      "cell_type": "code",
      "metadata": {
        "id": "swWNUjIiD1x3",
        "colab_type": "code",
        "outputId": "4462ca20-ce19-444f-f7e3-2b2c0db83ff4",
        "colab": {
          "base_uri": "https://localhost:8080/",
          "height": 34
        }
      },
      "source": [
        "!ls \"/content/gdrive/My Drive/data\""
      ],
      "execution_count": 0,
      "outputs": [
        {
          "output_type": "stream",
          "text": [
            "Mall_Customers.csv  pdf_to_excel.pdf\n"
          ],
          "name": "stdout"
        }
      ]
    },
    {
      "cell_type": "code",
      "metadata": {
        "id": "8oK9ft3kIU7-",
        "colab_type": "code",
        "colab": {}
      },
      "source": [
        "pip install tika"
      ],
      "execution_count": 0,
      "outputs": []
    },
    {
      "cell_type": "code",
      "metadata": {
        "id": "YZPsBRSGIaR6",
        "colab_type": "code",
        "outputId": "4f82448d-4238-4002-d3d5-4ae5dfc6ba8b",
        "colab": {
          "base_uri": "https://localhost:8080/",
          "height": 1263
        }
      },
      "source": [
        "import tika\n",
        "tika.initVM()\n",
        "from tika import parser\n",
        "parsed = parser.from_file('/content/gdrive/My Drive/data/pdf_to_excel.pdf')\n",
        "print(parsed[\"metadata\"])\n",
        "print(parsed[\"content\"])"
      ],
      "execution_count": 5,
      "outputs": [
        {
          "output_type": "stream",
          "text": [
            "{'Content-Type': 'application/pdf', 'Creation-Date': '2019-06-02T07:29:18Z', 'Keywords': '', 'Last-Modified': '2019-06-02T07:29:18Z', 'Last-Save-Date': '2019-06-02T07:29:18Z', 'X-Parsed-By': ['org.apache.tika.parser.DefaultParser', 'org.apache.tika.parser.pdf.PDFParser'], 'X-TIKA:parse_time_millis': '90', 'access_permission:assemble_document': 'true', 'access_permission:can_modify': 'true', 'access_permission:can_print': 'true', 'access_permission:can_print_degraded': 'true', 'access_permission:extract_content': 'true', 'access_permission:extract_for_accessibility': 'true', 'access_permission:fill_in_form': 'true', 'access_permission:modify_annotations': 'true', 'created': '2019-06-02T07:29:18Z', 'date': '2019-06-02T07:29:18Z', 'dc:format': 'application/pdf; version=1.3', 'dc:subject': '', 'dc:title': 'Microsoft Word - Documents.docx', 'dcterms:created': '2019-06-02T07:29:18Z', 'dcterms:modified': '2019-06-02T07:29:18Z', 'meta:creation-date': '2019-06-02T07:29:18Z', 'meta:keyword': '', 'meta:save-date': '2019-06-02T07:29:18Z', 'modified': '2019-06-02T07:29:18Z', 'pdf:PDFVersion': '1.3', 'pdf:docinfo:created': '2019-06-02T07:29:18Z', 'pdf:docinfo:creator_tool': 'Word', 'pdf:docinfo:keywords': '', 'pdf:docinfo:modified': '2019-06-02T07:29:18Z', 'pdf:docinfo:producer': 'Mac OS X 10.11.6 Quartz PDFContext', 'pdf:docinfo:title': 'Microsoft Word - Documents.docx', 'pdf:encrypted': 'false', 'producer': 'Mac OS X 10.11.6 Quartz PDFContext', 'resourceName': 'pdf_to_excel.pdf', 'subject': '', 'title': 'Microsoft Word - Documents.docx', 'xmp:CreatorTool': 'Word', 'xmpTPg:NPages': '1'}\n",
            "\n",
            "\n",
            "\n",
            "\n",
            "\n",
            "\n",
            "\n",
            "\n",
            "\n",
            "\n",
            "\n",
            "\n",
            "\n",
            "\n",
            "\n",
            "\n",
            "\n",
            "\n",
            "\n",
            "\n",
            "\n",
            "\n",
            "\n",
            "\n",
            "\n",
            "\n",
            "\n",
            "\n",
            "\n",
            "\n",
            "\n",
            "\n",
            "\n",
            "\n",
            "\n",
            "\n",
            "\n",
            "\n",
            "\n",
            "\n",
            "\n",
            "Microsoft Word - Documents.docx\n",
            "\n",
            "\n",
            "File 1: \n",
            "File Name: Instructions.docx \n",
            "File Size: 2 MB \n",
            "Download Link: https://www.sendspace.com/file/r59by6 \n",
            "Delete File \n",
            "Link: https://www.sendspace.com/delete/r59by6/57844a66dd1958f10f513c28bfe30c\n",
            "1f \n",
            " \n",
            "File 2: \n",
            "File Name: excel instructions.xlsx \n",
            "File Size: 995.5 KB \n",
            "Download Link: https://www.sendspace.com/file/lv6xjf \n",
            "Delete File \n",
            "Link: https://www.sendspace.com/delete/lv6xjf/7138a5de96bf4bf22d982b53dc56690\n",
            "6 \n",
            " \n",
            "File 3: \n",
            "File Name: L290-AQ-MDR-13850_0_SECTN_88OF107_IPX Reviewed_AC-\n",
            "OCR.pdf \n",
            "File Size: 173.3 MB \n",
            "Download Link: https://www.sendspace.com/file/mfj1z7 \n",
            "Delete File \n",
            "Link: https://www.sendspace.com/delete/mfj1z7/1c77539be54f2415c7a24ce5427a27\n",
            "81 \n",
            "\t\n",
            "\n",
            "\n",
            "\n"
          ],
          "name": "stdout"
        }
      ]
    },
    {
      "cell_type": "code",
      "metadata": {
        "id": "76SuYJcpIlx3",
        "colab_type": "code",
        "outputId": "007d334b-42a2-4a01-fcb9-82df390e173a",
        "colab": {
          "base_uri": "https://localhost:8080/",
          "height": 1226
        }
      },
      "source": [
        "print(parsed[\"content\"])"
      ],
      "execution_count": 0,
      "outputs": [
        {
          "output_type": "stream",
          "text": [
            "\n",
            "\n",
            "\n",
            "\n",
            "\n",
            "\n",
            "\n",
            "\n",
            "\n",
            "\n",
            "\n",
            "\n",
            "\n",
            "\n",
            "\n",
            "\n",
            "\n",
            "\n",
            "\n",
            "\n",
            "\n",
            "\n",
            "\n",
            "\n",
            "\n",
            "\n",
            "\n",
            "\n",
            "\n",
            "\n",
            "\n",
            "\n",
            "\n",
            "\n",
            "\n",
            "\n",
            "\n",
            "\n",
            "\n",
            "\n",
            "\n",
            "Microsoft Word - Documents.docx\n",
            "\n",
            "\n",
            "File 1: \n",
            "File Name: Instructions.docx \n",
            "File Size: 2 MB \n",
            "Download Link: https://www.sendspace.com/file/r59by6 \n",
            "Delete File \n",
            "Link: https://www.sendspace.com/delete/r59by6/57844a66dd1958f10f513c28bfe30c\n",
            "1f \n",
            " \n",
            "File 2: \n",
            "File Name: excel instructions.xlsx \n",
            "File Size: 995.5 KB \n",
            "Download Link: https://www.sendspace.com/file/lv6xjf \n",
            "Delete File \n",
            "Link: https://www.sendspace.com/delete/lv6xjf/7138a5de96bf4bf22d982b53dc56690\n",
            "6 \n",
            " \n",
            "File 3: \n",
            "File Name: L290-AQ-MDR-13850_0_SECTN_88OF107_IPX Reviewed_AC-\n",
            "OCR.pdf \n",
            "File Size: 173.3 MB \n",
            "Download Link: https://www.sendspace.com/file/mfj1z7 \n",
            "Delete File \n",
            "Link: https://www.sendspace.com/delete/mfj1z7/1c77539be54f2415c7a24ce5427a27\n",
            "81 \n",
            "\t\n",
            "\n",
            "\n",
            "\n"
          ],
          "name": "stdout"
        }
      ]
    },
    {
      "cell_type": "code",
      "metadata": {
        "id": "oYqhURxOJ_fo",
        "colab_type": "code",
        "outputId": "7e1ad2a8-b727-4ada-b4a4-6eccd06bd9e1",
        "colab": {
          "base_uri": "https://localhost:8080/",
          "height": 420
        }
      },
      "source": [
        "import re\n",
        "content = parsed[\"content\"]\n",
        "parsed = parser.from_file('/content/gdrive/My Drive/data/pdf_to_excel.pdf')\n",
        "content = parsed[\"content\"]\n",
        "content = content.replace(\"Microsoft Word - Documents.docx\", \"\")\n",
        "content = re.sub(\"File [0-9]+:\", \"---\", content).strip()\n",
        "ls = content.split(\"---\")\n",
        "d = {}\n",
        "\n",
        "i = 1\n",
        "for l in ls:\n",
        "  d[\"File \"+str(i)] = l\n",
        "  i = i+1\n",
        "    \n",
        "for k, v in d.items():\n",
        "  for line in v.splitlines():\n",
        "    print(line.split(\" : \"))"
      ],
      "execution_count": 0,
      "outputs": [
        {
          "output_type": "stream",
          "text": [
            "[' ']\n",
            "['File Name: Instructions.docx ']\n",
            "['File Size: 2 MB ']\n",
            "['Download Link: https://www.sendspace.com/file/r59by6 ']\n",
            "['Delete File ']\n",
            "['Link: https://www.sendspace.com/delete/r59by6/57844a66dd1958f10f513c28bfe30c']\n",
            "['1f ']\n",
            "[' ']\n",
            "[' ']\n",
            "['File Name: excel instructions.xlsx ']\n",
            "['File Size: 995.5 KB ']\n",
            "['Download Link: https://www.sendspace.com/file/lv6xjf ']\n",
            "['Delete File ']\n",
            "['Link: https://www.sendspace.com/delete/lv6xjf/7138a5de96bf4bf22d982b53dc56690']\n",
            "['6 ']\n",
            "[' ']\n",
            "[' ']\n",
            "['File Name: L290-AQ-MDR-13850_0_SECTN_88OF107_IPX Reviewed_AC-']\n",
            "['OCR.pdf ']\n",
            "['File Size: 173.3 MB ']\n",
            "['Download Link: https://www.sendspace.com/file/mfj1z7 ']\n",
            "['Delete File ']\n",
            "['Link: https://www.sendspace.com/delete/mfj1z7/1c77539be54f2415c7a24ce5427a27']\n",
            "['81']\n"
          ],
          "name": "stdout"
        }
      ]
    },
    {
      "cell_type": "code",
      "metadata": {
        "id": "4boFlEAdN9fz",
        "colab_type": "code",
        "colab": {}
      },
      "source": [
        "file = open(\"/content/gdrive/My Drive/data/pdf_to_excel.txt\",\"w\") \n",
        "file.write(content)\n",
        "file.close()"
      ],
      "execution_count": 0,
      "outputs": []
    },
    {
      "cell_type": "code",
      "metadata": {
        "id": "rcLNfz4dL_I0",
        "colab_type": "code",
        "outputId": "8545faf6-cd80-44ec-88c4-2b571fee1efc",
        "colab": {
          "base_uri": "https://localhost:8080/",
          "height": 34
        }
      },
      "source": [
        "match = re.match(r\"(^File [0-9]+):([^File [0-9]+].*)\", content, re.I)\n",
        "if match:\n",
        "    print(\"match\")\n",
        "    items = match.groups()\n",
        "\n",
        "items\n",
        "# re.split(\"File d+\", content)\n",
        "# key, value = content.split(\"File \")\n",
        "# my_dict = {key: value}\n",
        "\n",
        "# dict(zip(*content.split(':')))\n",
        "# dict(zip(*iter(content.split(':'))))"
      ],
      "execution_count": 0,
      "outputs": [
        {
          "output_type": "execute_result",
          "data": {
            "text/plain": [
              "('File 1',)"
            ]
          },
          "metadata": {
            "tags": []
          },
          "execution_count": 61
        }
      ]
    },
    {
      "cell_type": "code",
      "metadata": {
        "id": "TB8UcXPSOiRt",
        "colab_type": "code",
        "colab": {}
      },
      "source": [
        "\n",
        "\n"
      ],
      "execution_count": 0,
      "outputs": []
    }
  ]
}