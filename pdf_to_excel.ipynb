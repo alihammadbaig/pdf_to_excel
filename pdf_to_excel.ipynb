{
  "nbformat": 4,
  "nbformat_minor": 0,
  "metadata": {
    "colab": {
      "name": "pdf_to_excel.ipynb",
      "version": "0.3.2",
      "provenance": [],
      "collapsed_sections": [],
      "include_colab_link": true
    },
    "kernelspec": {
      "name": "python3",
      "display_name": "Python 3"
    }
  },
  "cells": [
    {
      "cell_type": "markdown",
      "metadata": {
        "id": "view-in-github",
        "colab_type": "text"
      },
      "source": [
        "<a href=\"https://colab.research.google.com/github/alihammadbaig/pdf_to_excel/blob/master/pdf_to_excel.ipynb\" target=\"_parent\"><img src=\"https://colab.research.google.com/assets/colab-badge.svg\" alt=\"Open In Colab\"/></a>"
      ]
    },
    {
      "cell_type": "code",
      "metadata": {
        "id": "A10izPzRDa89",
        "colab_type": "code",
        "outputId": "bb9b8a4e-d44f-417b-f501-2436a67116ee",
        "colab": {
          "base_uri": "https://localhost:8080/",
          "height": 120
        }
      },
      "source": [
        "from google.colab import drive\n",
        "drive.mount('/content/gdrive')\n"
      ],
      "execution_count": 1,
      "outputs": [
        {
          "output_type": "stream",
          "text": [
            "Go to this URL in a browser: https://accounts.google.com/o/oauth2/auth?client_id=947318989803-6bn6qk8qdgf4n4g3pfee6491hc0brc4i.apps.googleusercontent.com&redirect_uri=urn%3Aietf%3Awg%3Aoauth%3A2.0%3Aoob&scope=email%20https%3A%2F%2Fwww.googleapis.com%2Fauth%2Fdocs.test%20https%3A%2F%2Fwww.googleapis.com%2Fauth%2Fdrive%20https%3A%2F%2Fwww.googleapis.com%2Fauth%2Fdrive.photos.readonly%20https%3A%2F%2Fwww.googleapis.com%2Fauth%2Fpeopleapi.readonly&response_type=code\n",
            "\n",
            "Enter your authorization code:\n",
            "··········\n",
            "Mounted at /content/gdrive\n"
          ],
          "name": "stdout"
        }
      ]
    },
    {
      "cell_type": "code",
      "metadata": {
        "id": "swWNUjIiD1x3",
        "colab_type": "code",
        "outputId": "9fb47320-0665-4fba-c0f2-d731e773d11f",
        "colab": {
          "base_uri": "https://localhost:8080/",
          "height": 33
        }
      },
      "source": [
        "!ls \"/content/gdrive/My Drive/data\""
      ],
      "execution_count": 2,
      "outputs": [
        {
          "output_type": "stream",
          "text": [
            "Mall_Customers.csv  pdf_to_excel.pdf  pdf_to_excel.txt\n"
          ],
          "name": "stdout"
        }
      ]
    },
    {
      "cell_type": "code",
      "metadata": {
        "id": "8oK9ft3kIU7-",
        "colab_type": "code",
        "outputId": "61da6571-801e-4020-fd0b-8029924ff6c5",
        "colab": {
          "base_uri": "https://localhost:8080/",
          "height": 251
        }
      },
      "source": [
        "pip install tika"
      ],
      "execution_count": 3,
      "outputs": [
        {
          "output_type": "stream",
          "text": [
            "Collecting tika\n",
            "  Downloading https://files.pythonhosted.org/packages/10/75/b566e446ffcf292f10c8d84c15a3d91615fe3d7ca8072a17c949d4e84b66/tika-1.19.tar.gz\n",
            "Requirement already satisfied: setuptools in /usr/local/lib/python3.6/dist-packages (from tika) (41.0.1)\n",
            "Requirement already satisfied: requests in /usr/local/lib/python3.6/dist-packages (from tika) (2.21.0)\n",
            "Requirement already satisfied: idna<2.9,>=2.5 in /usr/local/lib/python3.6/dist-packages (from requests->tika) (2.8)\n",
            "Requirement already satisfied: certifi>=2017.4.17 in /usr/local/lib/python3.6/dist-packages (from requests->tika) (2019.3.9)\n",
            "Requirement already satisfied: chardet<3.1.0,>=3.0.2 in /usr/local/lib/python3.6/dist-packages (from requests->tika) (3.0.4)\n",
            "Requirement already satisfied: urllib3<1.25,>=1.21.1 in /usr/local/lib/python3.6/dist-packages (from requests->tika) (1.24.3)\n",
            "Building wheels for collected packages: tika\n",
            "  Building wheel for tika (setup.py) ... \u001b[?25l\u001b[?25hdone\n",
            "  Stored in directory: /root/.cache/pip/wheels/b4/db/8a/3a3f0c0725448eaa92703e3dda71e29dc13a119ff6c1036848\n",
            "Successfully built tika\n",
            "Installing collected packages: tika\n",
            "Successfully installed tika-1.19\n"
          ],
          "name": "stdout"
        }
      ]
    },
    {
      "cell_type": "code",
      "metadata": {
        "id": "oXoi3IXeSgWL",
        "colab_type": "code",
        "colab": {}
      },
      "source": [
        "# Text parsing library\n",
        "import tika\n",
        "from tika import parser\n",
        "\n",
        "# Deal with regular expression(text processing)\n",
        "import re\n",
        "\n",
        "# Handle the excel spreadsheet\n",
        "import openpyxl\n",
        "\n",
        "import os\n",
        "\n",
        "tika.initVM()\n",
        "\n",
        "# Read the ;PDF file\n",
        "parsed = parser.from_file('/content/gdrive/My Drive/Colab Notebooks/data/sample_pdf_for_excel.pdf')\n",
        "content = parsed[\"content\"].strip()\n"
      ],
      "execution_count": 0,
      "outputs": []
    },
    {
      "cell_type": "code",
      "metadata": {
        "id": "r3AToIzKSyq9",
        "colab_type": "code",
        "colab": {}
      },
      "source": [
        "\n",
        "f = open(\"/content/gdrive/My Drive/Colab Notebooks/data/pdf_content.txt\", \"w\")\n",
        "f.write(content)\n",
        "f.close()\n",
        "\n",
        "# content = f.open(\"/content/gdrive/My Drive/Colab Notebooks/data/pdf_content.txt\", \"f\")\n",
        "with open('/content/gdrive/My Drive/Colab Notebooks/data/pdf_content.txt', 'r') as myfile:\n",
        "  content = myfile.read()"
      ],
      "execution_count": 0,
      "outputs": []
    },
    {
      "cell_type": "code",
      "metadata": {
        "id": "TB8UcXPSOiRt",
        "colab_type": "code",
        "colab": {}
      },
      "source": [
        "# Read the spreadsheet for later use\n",
        "wb = openpyxl.load_workbook(\"/content/gdrive/My Drive/Colab Notebooks/data/excel_instructions.xlsx\")\n",
        "sheet = wb['Template']\n",
        "# Starting writing the sheet beginning line#2\n",
        "sheet_row_num = 2\n",
        "\n",
        "# PDF columns\n",
        "col_names = [\"top_coat_date\", \"blast_primer_date\"\n",
        "             ,\"dft1_ave\", \"dft1_5\", \"dft1_4\", \"dft1_3\", \"dft1_2\", \"dft1_1\"\n",
        "             ,\"dft2_ave\", \"dft2_5\", \"dft2_4\", \"dft2_3\", \"dft2_2\", \"dft2_1\"\n",
        "             , \"sys_tem\"]\n",
        "\n",
        "# Spreadsheet cells\n",
        "cells = [\"AL\", \"S\", \"AC\", \"AB\", \"AA\", \"Z\", \"Y\", \"X\", \"K\", \"J\", \"I\", \"H\", \"G\", \"F\", \"D\"]\n",
        "\n",
        "cols = {}\n",
        "\n",
        "col_count = 0\n",
        "\n",
        "def get_col():\n",
        "  global r\n",
        "  r = r.strip()\n",
        "  val = r[r.rfind(\" \") : len(r)]\n",
        "  r = r[0 : r.rfind(\" \")]\n",
        "  \n",
        "  global col_count \n",
        "  col_count = col_count + 1\n",
        "  \n",
        "  return val\n",
        "\n"
      ],
      "execution_count": 0,
      "outputs": []
    },
    {
      "cell_type": "code",
      "metadata": {
        "id": "sCdQhgN3iAo-",
        "colab_type": "code",
        "outputId": "bc4800ca-2c1c-47a9-e0d6-5b3359d63c7b",
        "colab": {
          "base_uri": "https://localhost:8080/",
          "height": 702
        }
      },
      "source": [
        "# c = content[:11000].strip()\n",
        "c = content\n",
        "# page_num_printed = 5479\n",
        "page_num_printed = 5485\n",
        "page_num = 4\n",
        "skip = 11\n",
        "total_pages = int(parsed[\"metadata\"][\"xmpTPg:NPages\"].strip())+1\n",
        "total_pages = 8\n",
        "\n",
        "def hasNumbers(inputString):\n",
        "  return bool(re.search(r'\\d', inputString))\n",
        "\n",
        "for page_num in range(7, total_pages):\n",
        "  print(\"Page#%i\"%page_num)\n",
        "  print(\"Page num printed#%i\"%page_num_printed)\n",
        "  \n",
        "  start_of_page = \"Page \" + str(page_num_printed) +\" of 13699\"\n",
        "  end_of_page = \"Page \" + str(page_num_printed + 1) +\" of 13699\"\n",
        "  page_content = c[c.find(start_of_page): c.find(end_of_page)]\n",
        "  \n",
        "#   print(page_content)\n",
        "    \n",
        "  try:\n",
        "    p = re.compile(\"(A*VE\\\\s+DATE)\", re.IGNORECASE)\n",
        "    for m in p.finditer(page_content):\n",
        "      start_of_table = m.start()+8\n",
        "\n",
        "    end_of_table = re.search(\"(FINAL\\\\s+)*INSPECTION\", page_content, flags = re.I)\n",
        "    if end_of_table is None:\n",
        "      end_of_table = re.search(\"(VISUAL\\\\s+)*INSPECTION\", page_content, flags = re.I)\n",
        "      skip = 29\n",
        "    \n",
        "    if end_of_table is None: \n",
        "      end_of_table = re.search(\"\\\\(*REMARK\", page_content, flags = re.I)\n",
        "      skip = 50\n",
        "    \n",
        "    end_of_table = end_of_table.start() - skip\n",
        "    \n",
        "    table = page_content[start_of_table:end_of_table]\n",
        "\n",
        "    # Data cleansing\n",
        "    table = table.replace(\"·\",\"-\")\\\n",
        "      .replace(\"•\",\"\")\\\n",
        "      .replace(\" ' \",\" \")\\\n",
        "      .replace(\"l4\", \"14\")\\\n",
        "      .replace(\",\", \"\")\\\n",
        "      .replace(\" . \", \" \")\\\n",
        "      .replace(\" - \", \" \")\\\n",
        "    \n",
        "    table = re.sub(\"OS-([A-Z]{3})\", r\"05-\\1\", table,  flags=re.I)\n",
        "\n",
        "    page_num_printed = page_num_printed + 1\n",
        "\n",
        "#     print(table)\n",
        "    \n",
        "    # Parse table row by row\n",
        "    for row in [x for x in table[2:].splitlines() if x]:\n",
        "      row = row.strip()\n",
        "      row = re.sub(\"-\\\\s*$\", \"\", row)\n",
        "  #     row = re.sub(\"^\\\\s*(\\\\w+|-)\\\\s+\", \"\", row)\n",
        "      row = re.sub(\"^.*?\\\\s+\", \"\", row)\n",
        "      row = re.sub(\"^\\\\s*\\\\w+\\\\s+\", \"\", row)\n",
        "  #     print(len(row))\n",
        "      \n",
        "      global col_count\n",
        "      col_count = 0\n",
        "    \n",
        "      if len(row) > 50  and\\\n",
        "        hasNumbers(row):\n",
        "        global r\n",
        "        \n",
        "        r = row\n",
        "        i = 0\n",
        "        print(\"-----\")\n",
        "        print(row)\n",
        "        \n",
        "        # Check if the last two columns are date columns or not\n",
        "        # In some cases the last date column is not read\n",
        "        row_cols = row.split(' ')\n",
        "#         last_col = rows_cols[len(rows_cols)]\n",
        "        second_last_col = row_cols[len(rows_cols)-1]\n",
        "        \n",
        "    \n",
        "        \n",
        "        for col_name in col_names:\n",
        "          col_val = get_col()\n",
        "          cols[col_name] = col_val\n",
        "          col_val = re.sub(r\"([0-9]+)_\", \"\\g<1>\",col_val)\n",
        "          col_val = re.sub(r\"_([0-9]+)\", \"\\g<1>\",col_val)\n",
        "          col_val = re.sub(r\"\\s+-([0-9]+)\", \" \\g<1>\",col_val)\n",
        "          col_val = re.sub(r\"([0-9]+)-\\s+\", \"\\g<1> \",col_val)\n",
        "        \n",
        "        print(col_count)\n",
        "#         \n",
        "# Write in spreadsheet\n",
        "#           cell = cells[i] + str(sheet_row_num)    \n",
        "#           sheet[cell].value= col_val\n",
        "#       #     print(\"Value:{0}, cell:{1}\".format(col_val, cell))\n",
        "#           i = i + 1\n",
        "\n",
        "\n",
        "#         r = re.sub(\"\\\\s+\", \"_\", r)\n",
        "#         cols[\"spool_no\"] = r\n",
        "#         cell =\"D\"+str(sheet_row_num)    \n",
        "#         sheet[cell].value = r\n",
        "#       #   print(\"Value:{0}, cell:{1}\".format(r, cell))\n",
        "\n",
        "#         cell =\"C\"+str(sheet_row_num)    \n",
        "#         sheet[cell].value = page_num\n",
        "#       #   print(\"Value:{0}, cell:{1}\".format(page_num, cell))\n",
        "\n",
        "#         sheet_row_num = sheet_row_num + 1\n",
        "\n",
        "#       #   for k,v in cols.items():\n",
        "#       #     print(\"{0}:{1}\".format(k,v))\n",
        "\n",
        "#       wb.save(\"/content/gdrive/My Drive/Colab Notebooks/data/excel_instructions.xlsx\")\n",
        "  except Exception:\n",
        "    print(\"Exception on page%i\" %page_num)\n",
        "    traceback.print_exc()\n",
        "    pass\n",
        "    \n"
      ],
      "execution_count": 30,
      "outputs": [
        {
          "output_type": "stream",
          "text": [
            "Page#7\n",
            "Page num printed#5485\n",
            "-----\n",
            "IA2EC-692 \"'1nno.1ro1.~<-n1 1 150 110 133 148 122 133 204 243 217 256 230 230 06-Nov-14\n",
            "15\n",
            "-----\n",
            "43032 I A1EN-561 1 139 102 129 140 119 126 _2<l! _2~7 221 260 234 234 06-Nov-14\n",
            "15\n",
            "-----\n",
            "l c7EA 10 or:n<.l.>~ \"-\"' 1 142 106 125 144 115 126 ~ ~ ~ ~ ~ ~ 06-Nov-14\n",
            "15\n",
            "-----\n",
            "IA1EJ-641 <Mn o->ro.-n1 1 145 111 134 149 123 132 203 242 216 255 229 229 06-Nov-14\n",
            "15\n",
            "-----\n",
            "l c7E 10 or-n<>. >l \" -\" 1 138 _!Q3 130 141 120 ~ ~ ~ ~ ~ ~ __2_3i 06-Nov-14\n",
            "15\n",
            "-----\n",
            "IA1EC-601 OR 10->1 n 1 149 107 126 145 116 129 211 250 220 263 237 236 06-Nov-14\n",
            "15\n",
            "-----\n",
            "IAtH-551 1 140 112 135 150 124 132 _2Q.2. ~ ~ ~ ~ _22_8 06-Nov-14\n",
            "15\n",
            "-----\n",
            "lc7EA-410 or-n<. ->~ -\"' 1 146 104 131 142 122 129 206 245 ~ ~ ~ ~ 06-Nov-14\n",
            "15\n",
            "-----\n",
            "IA7FM-M7 \"' \"o _or. .n7 1 143 108 127 146 117 128 ~ ~ ~ -~62 236 235 06-Nov-14\n",
            "15\n",
            "-----\n",
            "IA1EP-61 oo n->~ o.no 1 148 113 136 100 123 124 ~ ~ ~ ~ _.P:?_ _.P:?_ 06-Nov-14\n",
            "15\n",
            "-----\n",
            "IA1EP-611. 00 no>.oo n 1 141 l OS 132 143 121 128 205 244 222 2S7 231 232 06-Nov-14\n",
            "15\n",
            "-----\n",
            "IA2EL-552 M ?? :.1ro>.n7 1 144 109 128 147 118 129 ~ ~ _11_8_ _261 ~ __2_3i 06-Nov-14\n",
            "15\n",
            "-----\n",
            "IA1EP-6ll PI\"\"-\" '-\"\" 1 147 114 137 101 124 125 200 239 213 252 226 226 06-Nov-14\n",
            "15\n"
          ],
          "name": "stdout"
        }
      ]
    },
    {
      "cell_type": "code",
      "metadata": {
        "id": "Hp61Ob0buREo",
        "colab_type": "code",
        "outputId": "604b1ffe-e13a-4863-854f-2e71c5719e79",
        "colab": {
          "base_uri": "https://localhost:8080/",
          "height": 321
        }
      },
      "source": [
        "pip install pypdfocr"
      ],
      "execution_count": 0,
      "outputs": [
        {
          "output_type": "stream",
          "text": [
            "Collecting pypdfocr\n",
            "\u001b[?25l  Downloading https://files.pythonhosted.org/packages/c3/23/1bf42cb12af63d498fcd425882815c21efef37800514dbad9fa28918df5e/pypdfocr-0.9.1.tar.gz (43kB)\n",
            "\u001b[K     |████████████████████████████████| 51kB 2.0MB/s \n",
            "\u001b[?25hRequirement already satisfied: pillow>=2.2 in /usr/local/lib/python3.6/dist-packages (from pypdfocr) (4.3.0)\n",
            "Collecting reportlab>=2.7 (from pypdfocr)\n",
            "\u001b[?25l  Downloading https://files.pythonhosted.org/packages/9e/60/d4a6ca69e859774fdaf689d654a3b70429d199ab71ed22f3c367ea1529a8/reportlab-3.5.23-cp36-cp36m-manylinux1_x86_64.whl (2.6MB)\n",
            "\u001b[K     |████████████████████████████████| 2.6MB 8.0MB/s \n",
            "\u001b[?25hCollecting watchdog>=0.6.0 (from pypdfocr)\n",
            "\u001b[?25l  Downloading https://files.pythonhosted.org/packages/bb/e3/5a55d48a29300160779f0a0d2776d17c1b762a2039b36de528b093b87d5b/watchdog-0.9.0.tar.gz (85kB)\n",
            "\u001b[K     |████████████████████████████████| 92kB 25.3MB/s \n",
            "\u001b[?25hCollecting pypdf2>=1.23 (from pypdfocr)\n",
            "\u001b[?25l  Downloading https://files.pythonhosted.org/packages/b4/01/68fcc0d43daf4c6bdbc6b33cc3f77bda531c86b174cac56ef0ffdb96faab/PyPDF2-1.26.0.tar.gz (77kB)\n",
            "\u001b[K     |████████████████████████████████| 81kB 23.8MB/s \n",
            "\u001b[?25hCollecting evernote (from pypdfocr)\n",
            "\u001b[?25l  Downloading https://files.pythonhosted.org/packages/f9/6b/877f8edef8ef040d32eb38f3bf6322ba334de9d10614d8db9d869c162fc1/evernote-1.25.3.tar.gz (141kB)\n",
            "\u001b[K     |████████████████████████████████| 143kB 39.8MB/s \n",
            "\u001b[31mERROR: Command \"python setup.py egg_info\" failed with error code 1 in /tmp/pip-install-0png968o/evernote/\u001b[0m\n",
            "\u001b[?25h"
          ],
          "name": "stdout"
        }
      ]
    }
  ]
}