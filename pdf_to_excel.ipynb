{
  "nbformat": 4,
  "nbformat_minor": 0,
  "metadata": {
    "colab": {
      "name": "pdf_to_excel.ipynb",
      "version": "0.3.2",
      "provenance": [],
      "collapsed_sections": [],
      "include_colab_link": true
    },
    "kernelspec": {
      "name": "python3",
      "display_name": "Python 3"
    }
  },
  "cells": [
    {
      "cell_type": "markdown",
      "metadata": {
        "id": "view-in-github",
        "colab_type": "text"
      },
      "source": [
        "<a href=\"https://colab.research.google.com/github/alihammadbaig/pdf_to_excel/blob/master/pdf_to_excel.ipynb\" target=\"_parent\"><img src=\"https://colab.research.google.com/assets/colab-badge.svg\" alt=\"Open In Colab\"/></a>"
      ]
    },
    {
      "cell_type": "code",
      "metadata": {
        "id": "A10izPzRDa89",
        "colab_type": "code",
        "outputId": "3040becf-b4d7-4fb0-ea03-4bf8c3e8b61e",
        "colab": {
          "base_uri": "https://localhost:8080/",
          "height": 34
        }
      },
      "source": [
        "from google.colab import drive\n",
        "drive.mount('/content/gdrive')"
      ],
      "execution_count": 1,
      "outputs": [
        {
          "output_type": "stream",
          "text": [
            "Drive already mounted at /content/gdrive; to attempt to forcibly remount, call drive.mount(\"/content/gdrive\", force_remount=True).\n"
          ],
          "name": "stdout"
        }
      ]
    },
    {
      "cell_type": "code",
      "metadata": {
        "id": "swWNUjIiD1x3",
        "colab_type": "code",
        "outputId": "61b9319c-b900-4756-9905-9d0e3ec607d1",
        "colab": {
          "base_uri": "https://localhost:8080/",
          "height": 119
        }
      },
      "source": [
        "!ls \"/content/gdrive/My Drive/Colab Notebooks/data/\""
      ],
      "execution_count": 2,
      "outputs": [
        {
          "output_type": "stream",
          "text": [
            " alternative.pdf\t\t    pdf_content.txt\n",
            " alternative.xlsx\t\t    sample_kmeans_data.txt\n",
            " content.txt\t\t\t    sample_pdf_for_excel.pdf\n",
            "'Copy of excel_instructions.xlsx'   test.xlsx\n",
            " creds.json\t\t\t   'Twitter API Keys.gdoc'\n",
            " optus_case_study\n"
          ],
          "name": "stdout"
        }
      ]
    },
    {
      "cell_type": "code",
      "metadata": {
        "id": "8oK9ft3kIU7-",
        "colab_type": "code",
        "outputId": "3db67c4a-1a6b-4ed4-fae8-369451dcb575",
        "colab": {
          "base_uri": "https://localhost:8080/",
          "height": 136
        }
      },
      "source": [
        "pip install tika"
      ],
      "execution_count": 3,
      "outputs": [
        {
          "output_type": "stream",
          "text": [
            "Requirement already satisfied: tika in /usr/local/lib/python3.6/dist-packages (1.19)\n",
            "Requirement already satisfied: requests in /usr/local/lib/python3.6/dist-packages (from tika) (2.21.0)\n",
            "Requirement already satisfied: setuptools in /usr/local/lib/python3.6/dist-packages (from tika) (41.0.1)\n",
            "Requirement already satisfied: chardet<3.1.0,>=3.0.2 in /usr/local/lib/python3.6/dist-packages (from requests->tika) (3.0.4)\n",
            "Requirement already satisfied: idna<2.9,>=2.5 in /usr/local/lib/python3.6/dist-packages (from requests->tika) (2.8)\n",
            "Requirement already satisfied: urllib3<1.25,>=1.21.1 in /usr/local/lib/python3.6/dist-packages (from requests->tika) (1.24.3)\n",
            "Requirement already satisfied: certifi>=2017.4.17 in /usr/local/lib/python3.6/dist-packages (from requests->tika) (2019.3.9)\n"
          ],
          "name": "stdout"
        }
      ]
    },
    {
      "cell_type": "code",
      "metadata": {
        "id": "oXoi3IXeSgWL",
        "colab_type": "code",
        "colab": {}
      },
      "source": [
        "# Text parsing library\n",
        "import tika\n",
        "from tika import parser\n",
        "\n",
        "# Deal with regular expression(text processing)\n",
        "import re\n",
        "\n",
        "# Handle the excel spreadsheet\n",
        "import openpyxl\n",
        "\n",
        "import os\n",
        "\n",
        "tika.initVM()\n",
        "\n",
        "# Read the ;PDF file\n",
        "parsed = parser.from_file('/content/gdrive/My Drive/Colab Notebooks/data/sample_pdf_for_excel.pdf')\n",
        "content = parsed[\"content\"].strip()\n",
        "\n",
        "# Read the spreadsheet for later use\n",
        "wb = openpyxl.load_workbook(\"/content/gdrive/My Drive/Colab Notebooks/data/excel_instructions.xlsx\")\n",
        "# wb = openpyxl.load_workbook(\"/content/gdrive/My Drive/Colab Notebooks/data/test.xlsx\")\n",
        "sheet = wb['Template']\n",
        "\n",
        "# Starting writing the sheet beginning line#2\n",
        "sheet_row_num = 2\n",
        "\n",
        "# PDF columns\n",
        "col_names = [\"top_coat_date\", \"blast_primer_date\"\n",
        "             ,\"dft1_ave\", \"dft1_5\", \"dft1_4\", \"dft1_3\", \"dft1_2\", \"dft1_1\"\n",
        "             ,\"dft2_ave\", \"dft2_5\", \"dft2_4\", \"dft2_3\", \"dft2_2\", \"dft2_1\"\n",
        "             , \"sys_tem\"]\n",
        "\n",
        "# Spreadsheet cells\n",
        "cells = [\"AL\", \"S\", \"AC\", \"AB\", \"AA\", \"Z\", \"Y\", \"X\", \"K\", \"J\", \"I\", \"H\", \"G\", \"F\", \"D\"]\n",
        "\n",
        "cols = {}"
      ],
      "execution_count": 0,
      "outputs": []
    },
    {
      "cell_type": "code",
      "metadata": {
        "id": "TB8UcXPSOiRt",
        "colab_type": "code",
        "colab": {}
      },
      "source": [
        "page_num_printed = 5479\n",
        "page_num = 1\n",
        "skip = 11\n",
        "total_pages = int(parsed[\"metadata\"][\"xmpTPg:NPages\"].strip())\n",
        "# total_pages = 1\n",
        "\n",
        "def get_col():\n",
        "  global r\n",
        "  r = r.strip()\n",
        "  val = r[r.rfind(\" \") : len(r)]\n",
        "  r = r[0 : r.rfind(\" \")]\n",
        "  return val\n",
        "\n",
        "def hasNumbers(inputString):\n",
        "  return bool(re.search(r'\\d', inputString))\n"
      ],
      "execution_count": 0,
      "outputs": []
    },
    {
      "cell_type": "code",
      "metadata": {
        "id": "sCdQhgN3iAo-",
        "colab_type": "code",
        "colab": {}
      },
      "source": [
        "'''\n",
        "## Pages ##\n",
        "'''\n",
        "# print(page_num)\n",
        "# print(total_pages)\n",
        "\n",
        "while True:\n",
        "# for page_num in range(1, total_pages):\n",
        "#   print(\"Page#%i\"%page_num)\n",
        "#   print(\"Page num printed#%i\"%page_num_printed)\n",
        "  \n",
        "  start_of_page = \"Page \" + str(page_num_printed) +\" of 13699\"\n",
        "  end_of_page = \"Page \" + str(page_num_printed + 1) +\" of 13699\"\n",
        "  page_content = content[content.find(start_of_page): content.find(end_of_page)]\n",
        "    \n",
        "  '''\n",
        "  ## Extract the table\n",
        "  '''\n",
        "  try:\n",
        "    p = re.compile(\"(A*VE\\\\s+DATE)\", re.IGNORECASE)\n",
        "    for m in p.finditer(page_content):\n",
        "      start_of_table = m.start()+8\n",
        "\n",
        "    end_of_table = re.search(\"(FINAL\\\\s+)*INSPECTION\", page_content, flags = re.I)\n",
        "    if end_of_table is None:\n",
        "      end_of_table = re.search(\"(VISUAL\\\\s+)*INSPECTION\", page_content, flags = re.I)\n",
        "      skip = 29\n",
        "    \n",
        "    if end_of_table is None: \n",
        "      end_of_table = re.search(\"\\\\(*REMARK\", page_content, flags = re.I)\n",
        "      skip = 50\n",
        "    \n",
        "    end_of_table = end_of_table.start() - skip\n",
        "    \n",
        "    table = page_content[start_of_table:end_of_table]\n",
        "\n",
        "    # Data cleansing\n",
        "    table = table.replace(\"·\",\"-\")\\\n",
        "      .replace(\"•\",\"\")\\\n",
        "      .replace(\" ' \",\" \")\\\n",
        "      .replace(\"l4\", \"14\")\\\n",
        "      .replace(\",\", \"\")\\\n",
        "      .replace(\" . \", \" \")\\\n",
        "      .replace(\" - \", \" \")\n",
        "    \n",
        "    table = re.sub(\"OS-([A-Z]{3})\", r\"05-\\1\", table,  flags=re.I)\n",
        "    table = re.sub(\"(\\d{1,2})\\.*-\\.*([A-Z]{3})\\.*-\\.*(\\d{2,4})\", r\"\\1-\\2-\\3\", table,  flags = re.I)\n",
        "    table = re.sub(\"\\s+(\\d{1,2})\\s*-\\s*([A-Z]{3})\\s*-\\s*(\\d{2,4})\", r\" \\1-\\2-\\3 \", table, flags = re.I)\n",
        "    table = re.sub(\"\\s+([A-Z0-9]{1,2})\\s*-\\s*([A-Z]{3})\\s*-\\s*(\\d{2,4})\", r\" \\1-\\2-\\3 \", table, flags = re.I)\n",
        "    table = re.sub(\"\\s+([A-Z0-9]{1,2})\\.*-\\.*([A-Z]{3})\\.*-\\.(\\d{2,4})\", r\" \\1-\\2-\\3 \", table, flags = re.I)\n",
        "    table = re.sub(\"\\s+OS\\s*-\\s*([A-Z]{3})\\s*-\\s*(\\d{2,4})\", r\" 05-\\1-\\2 \", table, flags = re.I)\n",
        "    table = re.sub(\"\\s+Ol\\s*-\\s*([A-Z]{3})\\s*-\\s*(\\d{2,4})\", r\" 01-\\1-\\2 \", table, flags = re.I)\n",
        "    table = re.sub(\"\\.+\\s*Qct\", r\"-Oct\", table, flags = re.I)\n",
        "    table = re.sub(\"12S|l2S|l25\", r\"125\", table)\n",
        "    table = re.sub(\"lOS|l0S|l05|1OS|10S\", r\"105\", table)\n",
        "     \n",
        "    \n",
        "    page_num_printed = page_num_printed + 1\n",
        "  \n",
        "#     print(table)\n",
        "#     print(\"----\")\n",
        "    \n",
        "    '''\n",
        "    ## Rows ##\n",
        "    '''\n",
        "    for row in [x for x in table[2:].splitlines() if x]:\n",
        "      row = row.strip()\n",
        "      row = re.sub(\"-\\\\s*$\", \"\", row)\n",
        "      row = re.sub(\"^.*?\\\\s+\", \"\", row)\n",
        "      row = re.sub(\"^\\\\s*\\\\w+\\\\s+\", \"\", row)\n",
        "      row = re.sub(\"\\s+[0-9-_]+$\", \"\", row)\n",
        "      row = re.sub(\"\\s+\", \" \", row)\n",
        "      \n",
        "      if len(row) > 55  and\\\n",
        "        hasNumbers(row):\n",
        "        \n",
        "#         print(\"Raw row:%s\"%row)\n",
        "                \n",
        "        # Check if the second last columna is a date columns or not\n",
        "        # In some cases the last date column is not read\n",
        "        row_cols = row.split(' ')\n",
        "        \n",
        "        last_col = row_cols[len(row_cols)-1].strip()\n",
        "        second_last_col = row_cols[len(row_cols)-2].strip()\n",
        "        \n",
        "        # Second last column is not a date but last column is\n",
        "        if (not bool(re.match(\"\\s*\\d{1,2}\\-[a-z]{3}\\-\\d{2,4}\\s*\", second_last_col, flags = re.I)) and\\\n",
        "                    bool(re.match(\"\\s*\\d{1,2}\\-[a-z]{3}\\-\\d{2,4}\\s*\", last_col, flags = re.I))):\n",
        "#           print(\"second last column: %s\"%second_last_col)\n",
        "          # append the available date column at the end of the row\n",
        "          row = row + \" \"\\\n",
        "            + str(int(last_col.split(\"-\")[0]) + 1) + \"-\"\\\n",
        "            + last_col.split(\"-\")[1] + \"-\"\\\n",
        "            + last_col.split(\"-\")[2]\n",
        "          \n",
        "#           print(\"Last date column missing. adding second last column: %s\"%second_last_col)\n",
        "#           print(row)\n",
        "        \n",
        "        global r\n",
        "        r = row\n",
        "        col_num = 0\n",
        "        \n",
        "        for col_name in col_names:\n",
        "          col_val = get_col()\n",
        "          cols[col_name] = col_val\n",
        "          col_val = re.sub(r\"([0-9]+)_\", \"\\g<1>\",col_val)\n",
        "          col_val = re.sub(r\"_([0-9]+)\", \"\\g<1>\",col_val)\n",
        "          col_val = re.sub(r\"\\s+-([0-9]+)\", \" \\g<1>\",col_val)\n",
        "          col_val = re.sub(r\"([0-9]+)-\\s+\", \"\\g<1> \",col_val)\n",
        "          \n",
        "          # Write in spreadsheet\n",
        "          cell = cells[col_num] + str(sheet_row_num)    \n",
        "          sheet[cell].value= col_val\n",
        "#           print(\"Col Name:{0}, col value:{1} written in cell {2}\".format(col_name, col_val,cell))\n",
        "          col_num = col_num + 1\n",
        "\n",
        "        r = re.sub(\"\\\\s+\", \"_\", r)\n",
        "        cols[\"spool_no\"] = r\n",
        "        cell =\"D\"+str(sheet_row_num)    \n",
        "        sheet[cell].value = r\n",
        "\n",
        "        cell =\"C\"+str(sheet_row_num)    \n",
        "        sheet[cell].value = page_num\n",
        "      \n",
        "        sheet_row_num = sheet_row_num + 1\n",
        "  except Exception:\n",
        "    print(\"Exception on page%i\" %page_num)\n",
        "    traceback.print_exc()\n",
        "    pass\n",
        "  \n",
        "#   print(\"page_num:{0}, total_pages:{1}\".format(page_num, total_pages))\n",
        "\n",
        "  if(page_num == total_pages):\n",
        "#     print(\"Breaking the loop\")\n",
        "    break\n",
        "          \n",
        "  page_num = page_num + 1\n",
        "\n",
        "# print(\"cell d2 value {}\".format(sheet[\"d2\"].value))\n",
        "wb.save(\"/content/gdrive/My Drive/Colab Notebooks/data/excel_instructions.xlsx\")    \n",
        "# wb.save(\"/content/gdrive/My Drive/Colab Notebooks/data/test.xlsx\")"
      ],
      "execution_count": 0,
      "outputs": []
    },
    {
      "cell_type": "code",
      "metadata": {
        "id": "ZG-YjBQXEQci",
        "colab_type": "code",
        "colab": {}
      },
      "source": [
        ""
      ],
      "execution_count": 0,
      "outputs": []
    }
  ]
}