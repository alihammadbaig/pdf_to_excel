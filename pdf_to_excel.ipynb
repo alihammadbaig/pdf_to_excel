{
  "nbformat": 4,
  "nbformat_minor": 0,
  "metadata": {
    "colab": {
      "name": "pdf_to_excel.ipynb",
      "version": "0.3.2",
      "provenance": [],
      "include_colab_link": true
    },
    "kernelspec": {
      "name": "python3",
      "display_name": "Python 3"
    }
  },
  "cells": [
    {
      "cell_type": "markdown",
      "metadata": {
        "id": "view-in-github",
        "colab_type": "text"
      },
      "source": [
        "<a href=\"https://colab.research.google.com/github/alihammadbaig/pdf_to_excel/blob/master/pdf_to_excel.ipynb\" target=\"_parent\"><img src=\"https://colab.research.google.com/assets/colab-badge.svg\" alt=\"Open In Colab\"/></a>"
      ]
    },
    {
      "cell_type": "code",
      "metadata": {
        "id": "A10izPzRDa89",
        "colab_type": "code",
        "outputId": "c48ea3a5-71b8-42c5-e514-631f7bd12393",
        "colab": {
          "base_uri": "https://localhost:8080/",
          "height": 120
        }
      },
      "source": [
        "from google.colab import drive\n",
        "drive.mount('/content/gdrive')\n"
      ],
      "execution_count": 2,
      "outputs": [
        {
          "output_type": "stream",
          "text": [
            "Go to this URL in a browser: https://accounts.google.com/o/oauth2/auth?client_id=947318989803-6bn6qk8qdgf4n4g3pfee6491hc0brc4i.apps.googleusercontent.com&redirect_uri=urn%3Aietf%3Awg%3Aoauth%3A2.0%3Aoob&scope=email%20https%3A%2F%2Fwww.googleapis.com%2Fauth%2Fdocs.test%20https%3A%2F%2Fwww.googleapis.com%2Fauth%2Fdrive%20https%3A%2F%2Fwww.googleapis.com%2Fauth%2Fdrive.photos.readonly%20https%3A%2F%2Fwww.googleapis.com%2Fauth%2Fpeopleapi.readonly&response_type=code\n",
            "\n",
            "Enter your authorization code:\n",
            "··········\n",
            "Mounted at /content/gdrive\n"
          ],
          "name": "stdout"
        }
      ]
    },
    {
      "cell_type": "code",
      "metadata": {
        "id": "swWNUjIiD1x3",
        "colab_type": "code",
        "outputId": "4462ca20-ce19-444f-f7e3-2b2c0db83ff4",
        "colab": {
          "base_uri": "https://localhost:8080/",
          "height": 34
        }
      },
      "source": [
        "!ls \"/content/gdrive/My Drive/data\""
      ],
      "execution_count": 0,
      "outputs": [
        {
          "output_type": "stream",
          "text": [
            "Mall_Customers.csv  pdf_to_excel.pdf\n"
          ],
          "name": "stdout"
        }
      ]
    },
    {
      "cell_type": "code",
      "metadata": {
        "id": "8oK9ft3kIU7-",
        "colab_type": "code",
        "outputId": "f5df11de-c0bc-4f8b-a0dc-9b91323b9119",
        "colab": {
          "base_uri": "https://localhost:8080/",
          "height": 251
        }
      },
      "source": [
        "pip install tika"
      ],
      "execution_count": 3,
      "outputs": [
        {
          "output_type": "stream",
          "text": [
            "Collecting tika\n",
            "  Downloading https://files.pythonhosted.org/packages/10/75/b566e446ffcf292f10c8d84c15a3d91615fe3d7ca8072a17c949d4e84b66/tika-1.19.tar.gz\n",
            "Requirement already satisfied: setuptools in /usr/local/lib/python3.6/dist-packages (from tika) (41.0.1)\n",
            "Requirement already satisfied: requests in /usr/local/lib/python3.6/dist-packages (from tika) (2.21.0)\n",
            "Requirement already satisfied: certifi>=2017.4.17 in /usr/local/lib/python3.6/dist-packages (from requests->tika) (2019.3.9)\n",
            "Requirement already satisfied: idna<2.9,>=2.5 in /usr/local/lib/python3.6/dist-packages (from requests->tika) (2.8)\n",
            "Requirement already satisfied: chardet<3.1.0,>=3.0.2 in /usr/local/lib/python3.6/dist-packages (from requests->tika) (3.0.4)\n",
            "Requirement already satisfied: urllib3<1.25,>=1.21.1 in /usr/local/lib/python3.6/dist-packages (from requests->tika) (1.24.3)\n",
            "Building wheels for collected packages: tika\n",
            "  Building wheel for tika (setup.py) ... \u001b[?25l\u001b[?25hdone\n",
            "  Stored in directory: /root/.cache/pip/wheels/b4/db/8a/3a3f0c0725448eaa92703e3dda71e29dc13a119ff6c1036848\n",
            "Successfully built tika\n",
            "Installing collected packages: tika\n",
            "Successfully installed tika-1.19\n"
          ],
          "name": "stdout"
        }
      ]
    },
    {
      "cell_type": "code",
      "metadata": {
        "id": "YZPsBRSGIaR6",
        "colab_type": "code",
        "outputId": "c9c2a07d-a4fb-4c1f-f3b5-397c0e701cb8",
        "colab": {
          "base_uri": "https://localhost:8080/",
          "height": 386
        }
      },
      "source": [
        "import tika\n",
        "import re\n",
        "\n",
        "tika.initVM()\n",
        "from tika import parser\n",
        "\n",
        "parsed = parser.from_file('/content/gdrive/My Drive/data/pdf_to_excel.pdf')\n",
        "# print(parsed[\"metadata\"])\n",
        "content = parsed[\"content\"]\n",
        "content = content.replace(\"Microsoft Word - Documents.docx\", \"\").strip()\n",
        "content = re.sub(\"\\n*File [0-9]+:\", \"|||||\", content)\n",
        "print(content)"
      ],
      "execution_count": 0,
      "outputs": [
        {
          "output_type": "stream",
          "text": [
            "||||| \n",
            "File Name: Instructions.docx \n",
            "File Size: 2 MB \n",
            "Download Link: https://www.sendspace.com/file/r59by6 \n",
            "Delete File \n",
            "Link: https://www.sendspace.com/delete/r59by6/57844a66dd1958f10f513c28bfe30c\n",
            "1f \n",
            " ||||| \n",
            "File Name: excel instructions.xlsx \n",
            "File Size: 995.5 KB \n",
            "Download Link: https://www.sendspace.com/file/lv6xjf \n",
            "Delete File \n",
            "Link: https://www.sendspace.com/delete/lv6xjf/7138a5de96bf4bf22d982b53dc56690\n",
            "6 \n",
            " ||||| \n",
            "File Name: L290-AQ-MDR-13850_0_SECTN_88OF107_IPX Reviewed_AC-\n",
            "OCR.pdf \n",
            "File Size: 173.3 MB \n",
            "Download Link: https://www.sendspace.com/file/mfj1z7 \n",
            "Delete File \n",
            "Link: https://www.sendspace.com/delete/mfj1z7/1c77539be54f2415c7a24ce5427a27\n",
            "81\n"
          ],
          "name": "stdout"
        }
      ]
    },
    {
      "cell_type": "code",
      "metadata": {
        "id": "evSl8m8MCwuD",
        "colab_type": "code",
        "outputId": "e886882d-31fe-4084-cbd3-d26d69aa15c6",
        "colab": {
          "base_uri": "https://localhost:8080/",
          "height": 1075
        }
      },
      "source": [
        "section = content.split(\"|||||\")\n",
        "section = list(filter(None, section))\n",
        "section = [re.sub(r'(File\\s*\\n*Name)', \"File Name\", line) for line in section]\n",
        "section = [re.sub(r'(File\\s*\\n*Size)', \"File Size\", line) for line in section]\n",
        "section = [re.sub(r'(Download\\s*\\n*Link)', \"Download Link\", line) for line in section]\n",
        "section = [re.sub(r'(Delete\\s*\\n*File\\s*\\n*Link)', \"Delete File Link\", line) for line in section]\n",
        "\n",
        "d = {}\n",
        "\n",
        "i = 1\n",
        "for line in section:\n",
        "  d[\"File \"+str(i)] = line\n",
        "  i = i+1\n",
        "\n",
        "for k, v in d.items():\n",
        "  for line in v.splitlines():\n",
        "    print(line)    \n",
        "    print(\"----\")\n",
        "    print(line.split(\" : \"))"
      ],
      "execution_count": 0,
      "outputs": [
        {
          "output_type": "stream",
          "text": [
            " \n",
            "----\n",
            "[' ']\n",
            "File Name: Instructions.docx \n",
            "----\n",
            "['File Name: Instructions.docx ']\n",
            "File Size: 2 MB \n",
            "----\n",
            "['File Size: 2 MB ']\n",
            "Download Link: https://www.sendspace.com/file/r59by6 \n",
            "----\n",
            "['Download Link: https://www.sendspace.com/file/r59by6 ']\n",
            "Delete File Link: https://www.sendspace.com/delete/r59by6/57844a66dd1958f10f513c28bfe30c\n",
            "----\n",
            "['Delete File Link: https://www.sendspace.com/delete/r59by6/57844a66dd1958f10f513c28bfe30c']\n",
            "1f \n",
            "----\n",
            "['1f ']\n",
            " \n",
            "----\n",
            "[' ']\n",
            " \n",
            "----\n",
            "[' ']\n",
            "File Name: excel instructions.xlsx \n",
            "----\n",
            "['File Name: excel instructions.xlsx ']\n",
            "File Size: 995.5 KB \n",
            "----\n",
            "['File Size: 995.5 KB ']\n",
            "Download Link: https://www.sendspace.com/file/lv6xjf \n",
            "----\n",
            "['Download Link: https://www.sendspace.com/file/lv6xjf ']\n",
            "Delete File Link: https://www.sendspace.com/delete/lv6xjf/7138a5de96bf4bf22d982b53dc56690\n",
            "----\n",
            "['Delete File Link: https://www.sendspace.com/delete/lv6xjf/7138a5de96bf4bf22d982b53dc56690']\n",
            "6 \n",
            "----\n",
            "['6 ']\n",
            " \n",
            "----\n",
            "[' ']\n",
            " \n",
            "----\n",
            "[' ']\n",
            "File Name: L290-AQ-MDR-13850_0_SECTN_88OF107_IPX Reviewed_AC-\n",
            "----\n",
            "['File Name: L290-AQ-MDR-13850_0_SECTN_88OF107_IPX Reviewed_AC-']\n",
            "OCR.pdf \n",
            "----\n",
            "['OCR.pdf ']\n",
            "File Size: 173.3 MB \n",
            "----\n",
            "['File Size: 173.3 MB ']\n",
            "Download Link: https://www.sendspace.com/file/mfj1z7 \n",
            "----\n",
            "['Download Link: https://www.sendspace.com/file/mfj1z7 ']\n",
            "Delete File Link: https://www.sendspace.com/delete/mfj1z7/1c77539be54f2415c7a24ce5427a27\n",
            "----\n",
            "['Delete File Link: https://www.sendspace.com/delete/mfj1z7/1c77539be54f2415c7a24ce5427a27']\n",
            "81\n",
            "----\n",
            "['81']\n"
          ],
          "name": "stdout"
        }
      ]
    },
    {
      "cell_type": "code",
      "metadata": {
        "id": "oYqhURxOJ_fo",
        "colab_type": "code",
        "outputId": "7e1ad2a8-b727-4ada-b4a4-6eccd06bd9e1",
        "colab": {
          "base_uri": "https://localhost:8080/",
          "height": 420
        }
      },
      "source": [
        "    \n"
      ],
      "execution_count": 0,
      "outputs": [
        {
          "output_type": "stream",
          "text": [
            "[' ']\n",
            "['File Name: Instructions.docx ']\n",
            "['File Size: 2 MB ']\n",
            "['Download Link: https://www.sendspace.com/file/r59by6 ']\n",
            "['Delete File ']\n",
            "['Link: https://www.sendspace.com/delete/r59by6/57844a66dd1958f10f513c28bfe30c']\n",
            "['1f ']\n",
            "[' ']\n",
            "[' ']\n",
            "['File Name: excel instructions.xlsx ']\n",
            "['File Size: 995.5 KB ']\n",
            "['Download Link: https://www.sendspace.com/file/lv6xjf ']\n",
            "['Delete File ']\n",
            "['Link: https://www.sendspace.com/delete/lv6xjf/7138a5de96bf4bf22d982b53dc56690']\n",
            "['6 ']\n",
            "[' ']\n",
            "[' ']\n",
            "['File Name: L290-AQ-MDR-13850_0_SECTN_88OF107_IPX Reviewed_AC-']\n",
            "['OCR.pdf ']\n",
            "['File Size: 173.3 MB ']\n",
            "['Download Link: https://www.sendspace.com/file/mfj1z7 ']\n",
            "['Delete File ']\n",
            "['Link: https://www.sendspace.com/delete/mfj1z7/1c77539be54f2415c7a24ce5427a27']\n",
            "['81']\n"
          ],
          "name": "stdout"
        }
      ]
    },
    {
      "cell_type": "code",
      "metadata": {
        "id": "4boFlEAdN9fz",
        "colab_type": "code",
        "outputId": "7208154f-dbf7-4b99-f41c-0d5f57f89e01",
        "colab": {
          "base_uri": "https://localhost:8080/",
          "height": 195
        }
      },
      "source": [
        "file = open(\"/content/gdrive/My Drive/data/pdf_to_excel.txt\",\"w\") \n",
        "file.write(content)\n",
        "file.close()"
      ],
      "execution_count": 0,
      "outputs": [
        {
          "output_type": "error",
          "ename": "FileNotFoundError",
          "evalue": "ignored",
          "traceback": [
            "\u001b[0;31m---------------------------------------------------------------------------\u001b[0m",
            "\u001b[0;31mFileNotFoundError\u001b[0m                         Traceback (most recent call last)",
            "\u001b[0;32m<ipython-input-3-e01a1b80c152>\u001b[0m in \u001b[0;36m<module>\u001b[0;34m()\u001b[0m\n\u001b[0;32m----> 1\u001b[0;31m \u001b[0mfile\u001b[0m \u001b[0;34m=\u001b[0m \u001b[0mopen\u001b[0m\u001b[0;34m(\u001b[0m\u001b[0;34m\"/content/gdrive/My Drive/data/pdf_to_excel.txt\"\u001b[0m\u001b[0;34m,\u001b[0m\u001b[0;34m\"w\"\u001b[0m\u001b[0;34m)\u001b[0m\u001b[0;34m\u001b[0m\u001b[0;34m\u001b[0m\u001b[0m\n\u001b[0m\u001b[1;32m      2\u001b[0m \u001b[0mfile\u001b[0m\u001b[0;34m.\u001b[0m\u001b[0mwrite\u001b[0m\u001b[0;34m(\u001b[0m\u001b[0mcontent\u001b[0m\u001b[0;34m)\u001b[0m\u001b[0;34m\u001b[0m\u001b[0;34m\u001b[0m\u001b[0m\n\u001b[1;32m      3\u001b[0m \u001b[0mfile\u001b[0m\u001b[0;34m.\u001b[0m\u001b[0mclose\u001b[0m\u001b[0;34m(\u001b[0m\u001b[0;34m)\u001b[0m\u001b[0;34m\u001b[0m\u001b[0;34m\u001b[0m\u001b[0m\n",
            "\u001b[0;31mFileNotFoundError\u001b[0m: [Errno 2] No such file or directory: '/content/gdrive/My Drive/data/pdf_to_excel.txt'"
          ]
        }
      ]
    },
    {
      "cell_type": "code",
      "metadata": {
        "id": "rcLNfz4dL_I0",
        "colab_type": "code",
        "outputId": "8545faf6-cd80-44ec-88c4-2b571fee1efc",
        "colab": {
          "base_uri": "https://localhost:8080/",
          "height": 34
        }
      },
      "source": [
        "match = re.match(r\"(^File [0-9]+):([^File [0-9]+].*)\", content, re.I)\n",
        "if match:\n",
        "    print(\"match\")\n",
        "    items = match.groups()\n",
        "\n",
        "items\n",
        "# re.split(\"File d+\", content)\n",
        "# key, value = content.split(\"File \")\n",
        "# my_dict = {key: value}\n",
        "\n",
        "# dict(zip(*content.split(':')))\n",
        "# dict(zip(*iter(content.split(':'))))"
      ],
      "execution_count": 0,
      "outputs": [
        {
          "output_type": "execute_result",
          "data": {
            "text/plain": [
              "('File 1',)"
            ]
          },
          "metadata": {
            "tags": []
          },
          "execution_count": 61
        }
      ]
    },
    {
      "cell_type": "code",
      "metadata": {
        "id": "TB8UcXPSOiRt",
        "colab_type": "code",
        "colab": {}
      },
      "source": [
        "import tika\n",
        "import re\n",
        "\n",
        "tika.initVM()\n",
        "from tika import parser\n",
        "\n",
        "parsed = parser.from_file('/content/gdrive/My Drive/Colab Notebooks/data/sample_pdf_for_excel.pdf')\n",
        "# print(parsed[\"metadata\"])\n",
        "content = parsed[\"content\"]\n",
        "\n",
        "import openpyxl\n",
        "\n",
        "wb = openpyxl.load_workbook(\"/content/gdrive/My Drive/Colab Notebooks/data/excel_instructions.xlsx\")\n",
        "sheet = wb['Template']\n",
        "sheet_row_num = 2\n"
      ],
      "execution_count": 0,
      "outputs": []
    },
    {
      "cell_type": "code",
      "metadata": {
        "id": "sCdQhgN3iAo-",
        "colab_type": "code",
        "outputId": "80ce762a-a591-40de-c846-e238fac85159",
        "colab": {
          "base_uri": "https://localhost:8080/",
          "height": 502
        }
      },
      "source": [
        "c = content[:11000].strip()\n",
        "page_num_printed = 5479\n",
        "page_num = 1\n",
        "\n",
        "start_of_page = \"Page \" + str(page_num_printed) +\" of 13699\"\n",
        "end_of_page = \"Page \" + str(page_num_printed + 1) +\" of 13699\"\n",
        "page = c[c.find(start_of_page): c.find(end_of_page)]\n",
        "\n",
        "start_of_table = re.search(\"AVE\\\\s+DATE\", page).start()+8\n",
        "end_of_table = re.search(\"FINAL\\\\s+INSPECTION\", page).start()-11\n",
        "table = page[start_of_table:end_of_table]\n",
        "\n",
        "# Data cleansing\n",
        "table = table.replace(\"·\",\"-\")\\\n",
        "  .replace(\"•\",\"\")\\\n",
        "  .replace(\" ' \",\" \")\\\n",
        "  .replace(\"l4\", \"14\")\\\n",
        "  .replace(\",\", \"\")\n",
        "\n",
        "table = re.sub(\"OS-([A-Z]{3})\", r\"05-\\1\", table,  flags=re.I)\n",
        "print(table)\n",
        "  \n",
        "\n"
      ],
      "execution_count": 16,
      "outputs": [
        {
          "output_type": "stream",
          "text": [
            " \n",
            "1 S031109 A2EL-SS2 AM146-1SAO-HK-01 7 107 123 102 124 106 112 209 224 238 247 210 226 04-Nov-14 05-Nov-14 \n",
            "\n",
            "J20113 A2ED-702 CF241-1SBOV-02 7 102 118 111 118 113 112 202 219 233 203 219 215 04-Nov-14 05-Nov-14 -\n",
            "3 S046836 A2EB-582 PL033-6S80-03 7 112 122 107 122 105 114 213 223 242 246 214 228 04-Nov-14 05-Nov-14 \n",
            "\n",
            "4 5014458 A2EA-S92 PG015-1SCO-Q5 7 106 101 114 101 109 106 206 228 237 205 209 217 04-Nov-14 05-Nov-14 \n",
            "\n",
            "5 S042449 A2El-SS2 AM005-1SA0-19 7 101 117 103 117 112 110 201 218 232 250 218 224 04-Nov-14 05-Nov-14 \n",
            "\n",
            "6 S013917 A2EA-712 WS008-1SA0-05 7 111 121 112 121 104 114 210 222 241 202 213 218 04-Nov-14 05-Nov-14 \n",
            "\n",
            "7 S024105 C4E8-420 PG008-1S80-Q2 7 105 100 108 125 114 110 205 227 236 245 217 226 04-Nov-14 05-Nov-14 \n",
            "\n",
            "8 S020443 C7EA-410 PG159-1S80-02 7 100 116 115 116 108 111 200 217 231 204 208 212 04-Nov-14 05-Nov-14 \n",
            "\n",
            "9 S01S848 A2E8-602 MR014-6SBO-o6 7 108 120 104 120 111 113 211 221 240 249 212 227 04-Nov-14 05-Nov-14 \n",
            "\n",
            "10 S019248 A2EL-S52 AM142-1SA0.06 7 110 125 113 123 103 115 208 226 235 201 216 217 04-Nov-14 05-Nov-14 \n",
            "\n",
            "11 S020403 C4E8-700 CFOS0-1SB0-01 7 103 115 109 115 11S 111 203 216 230 244 207 220 04-Nov-14 05-Nov-14 \n",
            "\n",
            "12 S030627 A2EM-552 AM210-3SA0-01 7 113 119 105 119 107 113 207 220 239 248 211 225 04-Nov-14 05-Nov-14 \n",
            "\n",
            "13 S046618 A2EA-702 CF090-1SBOV-07 7 109 124 110 100 110 111 212 225 234 200 215 217 04-Nov-14 05-Nov-14 \n",
            "\n",
            "14 S028601 A1EP-701 DC133-6S80-02 7 104 114 106 114 102 108 204 21S 229 243 206 219 04-NOV-14 05-NOV-14 \n",
            "\n",
            "\n"
          ],
          "name": "stdout"
        }
      ]
    },
    {
      "cell_type": "code",
      "metadata": {
        "id": "GfAXhkvfvFqZ",
        "colab_type": "code",
        "outputId": "302a9f95-a969-4bfe-ae68-dee72f4f2330",
        "colab": {
          "base_uri": "https://localhost:8080/",
          "height": 3998
        }
      },
      "source": [
        "import os\n",
        "\n",
        "col_names = [\"top_coat_date\", \"blast_primer_date\"\n",
        "             ,\"dft1_ave\", \"dft1_5\", \"dft1_4\", \"dft1_3\", \"dft1_2\", \"dft1_1\"\n",
        "             ,\"dft2_ave\", \"dft2_5\", \"dft2_4\", \"dft2_3\", \"dft2_2\", \"dft2_1\"\n",
        "             , \"sys_tem\"]\n",
        "\n",
        "cells = [\"AL\", \"S\", \"AC\", \"AB\", \"AA\", \"Z\", \"Y\", \"X\", \"K\", \"J\", \"I\", \"H\", \"G\", \"F\", \"D\"]\n",
        "\n",
        "cols = {}\n",
        "# sheet_row_num = 2\n",
        "\n",
        "def get_col():\n",
        "  global r\n",
        "  r = r.strip()\n",
        "  val = r[r.rfind(\" \") : len(r)]\n",
        "  r = r[0 : r.rfind(\" \")]\n",
        "  return val\n",
        "\n",
        "\n",
        "for row in [x for x in table[2:].splitlines() if x]:\n",
        "  row = row.strip()\n",
        "  row = re.sub(\"-\\\\s*$\", \"\", row)\n",
        "  row = re.sub(\"^\\\\s*\\\\d+\\\\s+\", \"\", row)\n",
        "  row = re.sub(\"^\\\\s*\\\\w+\\\\s+\", \"\", row)\n",
        "  \n",
        "  \n",
        "  global r\n",
        "  r = row\n",
        "  i = 0\n",
        "  \n",
        "  for col_name in col_names:\n",
        "    col_val = get_col()\n",
        "    cols[col_name] = col_val\n",
        "    \n",
        "    # Write in spreadsheet\n",
        "    cell = cells[i] + str(sheet_row_num)    \n",
        "    sheet[cell].value= col_val\n",
        "    print(\"Value:{0}, cell:{1}\".format(col_val, cell))\n",
        "    i = i + 1\n",
        "    \n",
        "  \n",
        "  r = re.sub(\"\\\\s+\", \"_\", r)\n",
        "  cols[\"spool_no\"] = r\n",
        "  cell =\"D\"+str(sheet_row_num)    \n",
        "  sheet[cell].value = r\n",
        "  print(\"Value:{0}, cell:{1}\".format(r, cell))\n",
        "  \n",
        "  cell =\"C\"+str(sheet_row_num)    \n",
        "  sheet[cell].value = page_num\n",
        "  print(\"Value:{0}, cell:{1}\".format(page_num, cell))\n",
        "  \n",
        "  sheet_row_num = sheet_row_num + 1\n",
        "   \n",
        "#   for k,v in cols.items():\n",
        "#     print(\"{0}:{1}\".format(k,v))\n",
        "\n",
        "wb.save(\"/content/gdrive/My Drive/Colab Notebooks/data/excel_instructions.xlsx\")"
      ],
      "execution_count": 17,
      "outputs": [
        {
          "output_type": "stream",
          "text": [
            "Value: 05-Nov-14, cell:AL2\n",
            "Value: 04-Nov-14, cell:S2\n",
            "Value: 226, cell:AC2\n",
            "Value: 210, cell:AB2\n",
            "Value: 247, cell:AA2\n",
            "Value: 238, cell:Z2\n",
            "Value: 224, cell:Y2\n",
            "Value: 209, cell:X2\n",
            "Value: 112, cell:K2\n",
            "Value: 106, cell:J2\n",
            "Value: 124, cell:I2\n",
            "Value: 102, cell:H2\n",
            "Value: 123, cell:G2\n",
            "Value: 107, cell:F2\n",
            "Value: 7, cell:D2\n",
            "Value:A2EL-SS2_AM146-1SAO-HK-01, cell:D2\n",
            "Value:1, cell:C2\n",
            "Value: 05-Nov-14, cell:AL3\n",
            "Value: 04-Nov-14, cell:S3\n",
            "Value: 215, cell:AC3\n",
            "Value: 219, cell:AB3\n",
            "Value: 203, cell:AA3\n",
            "Value: 233, cell:Z3\n",
            "Value: 219, cell:Y3\n",
            "Value: 202, cell:X3\n",
            "Value: 112, cell:K3\n",
            "Value: 113, cell:J3\n",
            "Value: 118, cell:I3\n",
            "Value: 111, cell:H3\n",
            "Value: 118, cell:G3\n",
            "Value: 102, cell:F3\n",
            "Value: 7, cell:D3\n",
            "Value:A2ED-702_CF241-1SBOV-02, cell:D3\n",
            "Value:1, cell:C3\n",
            "Value: 05-Nov-14, cell:AL4\n",
            "Value: 04-Nov-14, cell:S4\n",
            "Value: 228, cell:AC4\n",
            "Value: 214, cell:AB4\n",
            "Value: 246, cell:AA4\n",
            "Value: 242, cell:Z4\n",
            "Value: 223, cell:Y4\n",
            "Value: 213, cell:X4\n",
            "Value: 114, cell:K4\n",
            "Value: 105, cell:J4\n",
            "Value: 122, cell:I4\n",
            "Value: 107, cell:H4\n",
            "Value: 122, cell:G4\n",
            "Value: 112, cell:F4\n",
            "Value: 7, cell:D4\n",
            "Value:A2EB-582_PL033-6S80-03, cell:D4\n",
            "Value:1, cell:C4\n",
            "Value: 05-Nov-14, cell:AL5\n",
            "Value: 04-Nov-14, cell:S5\n",
            "Value: 217, cell:AC5\n",
            "Value: 209, cell:AB5\n",
            "Value: 205, cell:AA5\n",
            "Value: 237, cell:Z5\n",
            "Value: 228, cell:Y5\n",
            "Value: 206, cell:X5\n",
            "Value: 106, cell:K5\n",
            "Value: 109, cell:J5\n",
            "Value: 101, cell:I5\n",
            "Value: 114, cell:H5\n",
            "Value: 101, cell:G5\n",
            "Value: 106, cell:F5\n",
            "Value: 7, cell:D5\n",
            "Value:A2EA-S92_PG015-1SCO-Q5, cell:D5\n",
            "Value:1, cell:C5\n",
            "Value: 05-Nov-14, cell:AL6\n",
            "Value: 04-Nov-14, cell:S6\n",
            "Value: 224, cell:AC6\n",
            "Value: 218, cell:AB6\n",
            "Value: 250, cell:AA6\n",
            "Value: 232, cell:Z6\n",
            "Value: 218, cell:Y6\n",
            "Value: 201, cell:X6\n",
            "Value: 110, cell:K6\n",
            "Value: 112, cell:J6\n",
            "Value: 117, cell:I6\n",
            "Value: 103, cell:H6\n",
            "Value: 117, cell:G6\n",
            "Value: 101, cell:F6\n",
            "Value: 7, cell:D6\n",
            "Value:A2El-SS2_AM005-1SA0-19, cell:D6\n",
            "Value:1, cell:C6\n",
            "Value: 05-Nov-14, cell:AL7\n",
            "Value: 04-Nov-14, cell:S7\n",
            "Value: 218, cell:AC7\n",
            "Value: 213, cell:AB7\n",
            "Value: 202, cell:AA7\n",
            "Value: 241, cell:Z7\n",
            "Value: 222, cell:Y7\n",
            "Value: 210, cell:X7\n",
            "Value: 114, cell:K7\n",
            "Value: 104, cell:J7\n",
            "Value: 121, cell:I7\n",
            "Value: 112, cell:H7\n",
            "Value: 121, cell:G7\n",
            "Value: 111, cell:F7\n",
            "Value: 7, cell:D7\n",
            "Value:A2EA-712_WS008-1SA0-05, cell:D7\n",
            "Value:1, cell:C7\n",
            "Value: 05-Nov-14, cell:AL8\n",
            "Value: 04-Nov-14, cell:S8\n",
            "Value: 226, cell:AC8\n",
            "Value: 217, cell:AB8\n",
            "Value: 245, cell:AA8\n",
            "Value: 236, cell:Z8\n",
            "Value: 227, cell:Y8\n",
            "Value: 205, cell:X8\n",
            "Value: 110, cell:K8\n",
            "Value: 114, cell:J8\n",
            "Value: 125, cell:I8\n",
            "Value: 108, cell:H8\n",
            "Value: 100, cell:G8\n",
            "Value: 105, cell:F8\n",
            "Value: 7, cell:D8\n",
            "Value:C4E8-420_PG008-1S80-Q2, cell:D8\n",
            "Value:1, cell:C8\n",
            "Value: 05-Nov-14, cell:AL9\n",
            "Value: 04-Nov-14, cell:S9\n",
            "Value: 212, cell:AC9\n",
            "Value: 208, cell:AB9\n",
            "Value: 204, cell:AA9\n",
            "Value: 231, cell:Z9\n",
            "Value: 217, cell:Y9\n",
            "Value: 200, cell:X9\n",
            "Value: 111, cell:K9\n",
            "Value: 108, cell:J9\n",
            "Value: 116, cell:I9\n",
            "Value: 115, cell:H9\n",
            "Value: 116, cell:G9\n",
            "Value: 100, cell:F9\n",
            "Value: 7, cell:D9\n",
            "Value:C7EA-410_PG159-1S80-02, cell:D9\n",
            "Value:1, cell:C9\n",
            "Value: 05-Nov-14, cell:AL10\n",
            "Value: 04-Nov-14, cell:S10\n",
            "Value: 227, cell:AC10\n",
            "Value: 212, cell:AB10\n",
            "Value: 249, cell:AA10\n",
            "Value: 240, cell:Z10\n",
            "Value: 221, cell:Y10\n",
            "Value: 211, cell:X10\n",
            "Value: 113, cell:K10\n",
            "Value: 111, cell:J10\n",
            "Value: 120, cell:I10\n",
            "Value: 104, cell:H10\n",
            "Value: 120, cell:G10\n",
            "Value: 108, cell:F10\n",
            "Value: 7, cell:D10\n",
            "Value:A2E8-602_MR014-6SBO-o6, cell:D10\n",
            "Value:1, cell:C10\n",
            "Value: 05-Nov-14, cell:AL11\n",
            "Value: 04-Nov-14, cell:S11\n",
            "Value: 217, cell:AC11\n",
            "Value: 216, cell:AB11\n",
            "Value: 201, cell:AA11\n",
            "Value: 235, cell:Z11\n",
            "Value: 226, cell:Y11\n",
            "Value: 208, cell:X11\n",
            "Value: 115, cell:K11\n",
            "Value: 103, cell:J11\n",
            "Value: 123, cell:I11\n",
            "Value: 113, cell:H11\n",
            "Value: 125, cell:G11\n",
            "Value: 110, cell:F11\n",
            "Value: 7, cell:D11\n",
            "Value:A2EL-S52_AM142-1SA0.06, cell:D11\n",
            "Value:1, cell:C11\n",
            "Value: 05-Nov-14, cell:AL12\n",
            "Value: 04-Nov-14, cell:S12\n",
            "Value: 220, cell:AC12\n",
            "Value: 207, cell:AB12\n",
            "Value: 244, cell:AA12\n",
            "Value: 230, cell:Z12\n",
            "Value: 216, cell:Y12\n",
            "Value: 203, cell:X12\n",
            "Value: 111, cell:K12\n",
            "Value: 11S, cell:J12\n",
            "Value: 115, cell:I12\n",
            "Value: 109, cell:H12\n",
            "Value: 115, cell:G12\n",
            "Value: 103, cell:F12\n",
            "Value: 7, cell:D12\n",
            "Value:C4E8-700_CFOS0-1SB0-01, cell:D12\n",
            "Value:1, cell:C12\n",
            "Value: 05-Nov-14, cell:AL13\n",
            "Value: 04-Nov-14, cell:S13\n",
            "Value: 225, cell:AC13\n",
            "Value: 211, cell:AB13\n",
            "Value: 248, cell:AA13\n",
            "Value: 239, cell:Z13\n",
            "Value: 220, cell:Y13\n",
            "Value: 207, cell:X13\n",
            "Value: 113, cell:K13\n",
            "Value: 107, cell:J13\n",
            "Value: 119, cell:I13\n",
            "Value: 105, cell:H13\n",
            "Value: 119, cell:G13\n",
            "Value: 113, cell:F13\n",
            "Value: 7, cell:D13\n",
            "Value:A2EM-552_AM210-3SA0-01, cell:D13\n",
            "Value:1, cell:C13\n",
            "Value: 05-Nov-14, cell:AL14\n",
            "Value: 04-Nov-14, cell:S14\n",
            "Value: 217, cell:AC14\n",
            "Value: 215, cell:AB14\n",
            "Value: 200, cell:AA14\n",
            "Value: 234, cell:Z14\n",
            "Value: 225, cell:Y14\n",
            "Value: 212, cell:X14\n",
            "Value: 111, cell:K14\n",
            "Value: 110, cell:J14\n",
            "Value: 100, cell:I14\n",
            "Value: 110, cell:H14\n",
            "Value: 124, cell:G14\n",
            "Value: 109, cell:F14\n",
            "Value: 7, cell:D14\n",
            "Value:A2EA-702_CF090-1SBOV-07, cell:D14\n",
            "Value:1, cell:C14\n",
            "Value: 05-NOV-14, cell:AL15\n",
            "Value: 04-NOV-14, cell:S15\n",
            "Value: 219, cell:AC15\n",
            "Value: 206, cell:AB15\n",
            "Value: 243, cell:AA15\n",
            "Value: 229, cell:Z15\n",
            "Value: 21S, cell:Y15\n",
            "Value: 204, cell:X15\n",
            "Value: 108, cell:K15\n",
            "Value: 102, cell:J15\n",
            "Value: 114, cell:I15\n",
            "Value: 106, cell:H15\n",
            "Value: 114, cell:G15\n",
            "Value: 104, cell:F15\n",
            "Value: 7, cell:D15\n",
            "Value:A1EP-701_DC133-6S80-02, cell:D15\n",
            "Value:1, cell:C15\n"
          ],
          "name": "stdout"
        }
      ]
    },
    {
      "cell_type": "code",
      "metadata": {
        "id": "NZLBIM1MP7jP",
        "colab_type": "code",
        "colab": {}
      },
      "source": [
        "# wb = openpyxl.load_workbook(\"/content/gdrive/My Drive/Colab Notebooks/data/excel_instructions.xlsx\")\n",
        "# sheet = wb['Template']\n",
        "# sheet_row_num = 2\n",
        "# sheet[\"D1\"] = \"Member No\"\n",
        "# sheet[\"D1\"].value\n",
        "wb.save(\"/content/gdrive/My Drive/Colab Notebooks/data/excel_instructions.xlsx\")"
      ],
      "execution_count": 0,
      "outputs": []
    },
    {
      "cell_type": "code",
      "metadata": {
        "id": "6nQPZCKXDCzz",
        "colab_type": "code",
        "colab": {
          "base_uri": "https://localhost:8080/",
          "height": 67
        },
        "outputId": "81091933-6047-4651-c124-3328db33bc02"
      },
      "source": [
        "\n",
        "# pip install xlsxwriter\n",
        "pip install openpyxl"
      ],
      "execution_count": 13,
      "outputs": [
        {
          "output_type": "stream",
          "text": [
            "Requirement already satisfied: openpyxl in /usr/local/lib/python3.6/dist-packages (2.5.9)\n",
            "Requirement already satisfied: jdcal in /usr/local/lib/python3.6/dist-packages (from openpyxl) (1.4.1)\n",
            "Requirement already satisfied: et-xmlfile in /usr/local/lib/python3.6/dist-packages (from openpyxl) (1.0.1)\n"
          ],
          "name": "stdout"
        }
      ]
    },
    {
      "cell_type": "code",
      "metadata": {
        "id": "CqR1rALiEWHw",
        "colab_type": "code",
        "colab": {}
      },
      "source": [
        "import openpyxl\n",
        "\n",
        "wb = openpyxl.load_workbook(\"/content/gdrive/My Drive/Colab Notebooks/data/excel_instructions.xlsx\")\n",
        "old_sheet = wb.get_sheet_by_name('Template')\n",
        "old_sheet.title = 'Sheet1.5'\n",
        "max_row = old_sheet.get_highest_row()\n",
        "max_col = old_sheet.get_highest_column()\n",
        "wb.create_sheet(0, 'Sheet1')\n"
      ],
      "execution_count": 0,
      "outputs": []
    },
    {
      "cell_type": "code",
      "metadata": {
        "id": "iNlU9lhLC9h6",
        "colab_type": "code",
        "colab": {}
      },
      "source": [
        "# import xlsxwriter\n",
        "\n",
        "# workbook = xlsxwriter.Workbook('/content/gdrive/My Drive/Colab Notebooks/data/excel_instructions.xlsx')\n",
        "# worksheet = workbook.add_worksheet()\n",
        "\n",
        "# d = {'a':['e1','e2','e3'], 'b':['e1','e2'], 'c':['e1']}\n",
        "# row = 0\n",
        "# col = 0\n",
        "\n",
        "# for key in d.keys():\n",
        "#     row += 1\n",
        "#     worksheet.write(row, col, key)\n",
        "#     for item in d[key]:\n",
        "#         worksheet.write(row, col + 1, item)\n",
        "#         row += 1\n",
        "\n",
        "# workbook.close()"
      ],
      "execution_count": 0,
      "outputs": []
    }
  ]
}