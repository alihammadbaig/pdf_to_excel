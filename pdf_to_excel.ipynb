{
  "nbformat": 4,
  "nbformat_minor": 0,
  "metadata": {
    "colab": {
      "name": "pdf_to_excel.ipynb",
      "version": "0.3.2",
      "provenance": [],
      "collapsed_sections": [],
      "include_colab_link": true
    },
    "kernelspec": {
      "name": "python3",
      "display_name": "Python 3"
    }
  },
  "cells": [
    {
      "cell_type": "markdown",
      "metadata": {
        "id": "view-in-github",
        "colab_type": "text"
      },
      "source": [
        "<a href=\"https://colab.research.google.com/github/alihammadbaig/pdf_to_excel/blob/master/pdf_to_excel.ipynb\" target=\"_parent\"><img src=\"https://colab.research.google.com/assets/colab-badge.svg\" alt=\"Open In Colab\"/></a>"
      ]
    },
    {
      "cell_type": "code",
      "metadata": {
        "id": "A10izPzRDa89",
        "colab_type": "code",
        "outputId": "80a25703-00cf-41f2-a7f5-0c8a838e2e04",
        "colab": {
          "base_uri": "https://localhost:8080/",
          "height": 120
        }
      },
      "source": [
        "from google.colab import drive\n",
        "drive.mount('/content/gdrive')\n"
      ],
      "execution_count": 1,
      "outputs": [
        {
          "output_type": "stream",
          "text": [
            "Go to this URL in a browser: https://accounts.google.com/o/oauth2/auth?client_id=947318989803-6bn6qk8qdgf4n4g3pfee6491hc0brc4i.apps.googleusercontent.com&redirect_uri=urn%3Aietf%3Awg%3Aoauth%3A2.0%3Aoob&scope=email%20https%3A%2F%2Fwww.googleapis.com%2Fauth%2Fdocs.test%20https%3A%2F%2Fwww.googleapis.com%2Fauth%2Fdrive%20https%3A%2F%2Fwww.googleapis.com%2Fauth%2Fdrive.photos.readonly%20https%3A%2F%2Fwww.googleapis.com%2Fauth%2Fpeopleapi.readonly&response_type=code\n",
            "\n",
            "Enter your authorization code:\n",
            "··········\n",
            "Mounted at /content/gdrive\n"
          ],
          "name": "stdout"
        }
      ]
    },
    {
      "cell_type": "code",
      "metadata": {
        "id": "swWNUjIiD1x3",
        "colab_type": "code",
        "outputId": "28c05b33-e45c-46a4-acb7-2760a6a6a359",
        "colab": {
          "base_uri": "https://localhost:8080/",
          "height": 50
        }
      },
      "source": [
        "!ls \"/content/gdrive/My Drive/Colab Notebooks/data/\""
      ],
      "execution_count": 3,
      "outputs": [
        {
          "output_type": "stream",
          "text": [
            "content.txt\t\t optus_case_study  sample_kmeans_data.txt    test.xlsx\n",
            "excel_instructions.xlsx  pdf_content.txt   sample_pdf_for_excel.pdf\n"
          ],
          "name": "stdout"
        }
      ]
    },
    {
      "cell_type": "code",
      "metadata": {
        "id": "8oK9ft3kIU7-",
        "colab_type": "code",
        "outputId": "baa19431-e86e-42e6-c2ed-0eb63903a7ba",
        "colab": {
          "base_uri": "https://localhost:8080/",
          "height": 251
        }
      },
      "source": [
        "pip install tika"
      ],
      "execution_count": 4,
      "outputs": [
        {
          "output_type": "stream",
          "text": [
            "Collecting tika\n",
            "  Downloading https://files.pythonhosted.org/packages/10/75/b566e446ffcf292f10c8d84c15a3d91615fe3d7ca8072a17c949d4e84b66/tika-1.19.tar.gz\n",
            "Requirement already satisfied: setuptools in /usr/local/lib/python3.6/dist-packages (from tika) (41.0.1)\n",
            "Requirement already satisfied: requests in /usr/local/lib/python3.6/dist-packages (from tika) (2.21.0)\n",
            "Requirement already satisfied: chardet<3.1.0,>=3.0.2 in /usr/local/lib/python3.6/dist-packages (from requests->tika) (3.0.4)\n",
            "Requirement already satisfied: idna<2.9,>=2.5 in /usr/local/lib/python3.6/dist-packages (from requests->tika) (2.8)\n",
            "Requirement already satisfied: urllib3<1.25,>=1.21.1 in /usr/local/lib/python3.6/dist-packages (from requests->tika) (1.24.3)\n",
            "Requirement already satisfied: certifi>=2017.4.17 in /usr/local/lib/python3.6/dist-packages (from requests->tika) (2019.3.9)\n",
            "Building wheels for collected packages: tika\n",
            "  Building wheel for tika (setup.py) ... \u001b[?25l\u001b[?25hdone\n",
            "  Stored in directory: /root/.cache/pip/wheels/b4/db/8a/3a3f0c0725448eaa92703e3dda71e29dc13a119ff6c1036848\n",
            "Successfully built tika\n",
            "Installing collected packages: tika\n",
            "Successfully installed tika-1.19\n"
          ],
          "name": "stdout"
        }
      ]
    },
    {
      "cell_type": "code",
      "metadata": {
        "id": "oXoi3IXeSgWL",
        "colab_type": "code",
        "colab": {}
      },
      "source": [
        "# Text parsing library\n",
        "import tika\n",
        "from tika import parser\n",
        "\n",
        "# Deal with regular expression(text processing)\n",
        "import re\n",
        "\n",
        "# Handle the excel spreadsheet\n",
        "import openpyxl\n",
        "\n",
        "import os\n",
        "\n",
        "tika.initVM()\n",
        "\n",
        "# Read the ;PDF file\n",
        "parsed = parser.from_file('/content/gdrive/My Drive/Colab Notebooks/data/sample_pdf_for_excel.pdf')\n",
        "content = parsed[\"content\"].strip()\n",
        "\n",
        "# Read the spreadsheet for later use\n",
        "wb = openpyxl.load_workbook(\"/content/gdrive/My Drive/Colab Notebooks/data/excel_instructions1.xlsx\")\n",
        "sheet = wb['Template']\n",
        "\n",
        "# Starting writing the sheet beginning line#2\n",
        "sheet_row_num = 2\n",
        "\n",
        "# PDF columns\n",
        "col_names = [\"top_coat_date\", \"blast_primer_date\"\n",
        "             ,\"dft1_ave\", \"dft1_5\", \"dft1_4\", \"dft1_3\", \"dft1_2\", \"dft1_1\"\n",
        "             ,\"dft2_ave\", \"dft2_5\", \"dft2_4\", \"dft2_3\", \"dft2_2\", \"dft2_1\"\n",
        "             , \"sys_tem\"]\n",
        "\n",
        "# Spreadsheet cells\n",
        "cells = [\"AL\", \"S\", \"AC\", \"AB\", \"AA\", \"Z\", \"Y\", \"X\", \"K\", \"J\", \"I\", \"H\", \"G\", \"F\", \"D\"]\n",
        "\n",
        "cols = {}"
      ],
      "execution_count": 0,
      "outputs": []
    },
    {
      "cell_type": "code",
      "metadata": {
        "id": "TB8UcXPSOiRt",
        "colab_type": "code",
        "colab": {}
      },
      "source": [
        "page_num_printed = 5491\n",
        "page_num = 1\n",
        "skip = 11\n",
        "total_pages = int(parsed[\"metadata\"][\"xmpTPg:NPages\"].strip())+1\n",
        "total_pages = 10\n",
        "\n",
        "def get_col():\n",
        "  global r\n",
        "  r = r.strip()\n",
        "  val = r[r.rfind(\" \") : len(r)]\n",
        "  r = r[0 : r.rfind(\" \")]\n",
        "  return val\n",
        "\n",
        "def hasNumbers(inputString):\n",
        "  return bool(re.search(r'\\d', inputString))\n"
      ],
      "execution_count": 0,
      "outputs": []
    },
    {
      "cell_type": "code",
      "metadata": {
        "id": "sCdQhgN3iAo-",
        "colab_type": "code",
        "outputId": "219f0d7a-8671-45ed-af8e-c7987b8f82a4",
        "colab": {
          "base_uri": "https://localhost:8080/",
          "height": 446
        }
      },
      "source": [
        "'''\n",
        "## Pages ##\n",
        "'''\n",
        "for page_num in range(1, total_pages):\n",
        "  print(\"Page#%i\"%page_num)\n",
        "  print(\"Page num printed#%i\"%page_num_printed)\n",
        "  \n",
        "  start_of_page = \"Page \" + str(page_num_printed) +\" of 13699\"\n",
        "  end_of_page = \"Page \" + str(page_num_printed + 1) +\" of 13699\"\n",
        "  page_content = content[content.find(start_of_page): content.find(end_of_page)]\n",
        "    \n",
        "  '''\n",
        "  ## Extract the table\n",
        "  '''\n",
        "  try:\n",
        "    p = re.compile(\"(A*VE\\\\s+DATE)\", re.IGNORECASE)\n",
        "    for m in p.finditer(page_content):\n",
        "      start_of_table = m.start()+8\n",
        "\n",
        "    end_of_table = re.search(\"(FINAL\\\\s+)*INSPECTION\", page_content, flags = re.I)\n",
        "    if end_of_table is None:\n",
        "      end_of_table = re.search(\"(VISUAL\\\\s+)*INSPECTION\", page_content, flags = re.I)\n",
        "      skip = 29\n",
        "    \n",
        "    if end_of_table is None: \n",
        "      end_of_table = re.search(\"\\\\(*REMARK\", page_content, flags = re.I)\n",
        "      skip = 50\n",
        "    \n",
        "    end_of_table = end_of_table.start() - skip\n",
        "    \n",
        "    table = page_content[start_of_table:end_of_table]\n",
        "\n",
        "    # Data cleansing\n",
        "    table = table.replace(\"·\",\"-\")\\\n",
        "      .replace(\"•\",\"\")\\\n",
        "      .replace(\" ' \",\" \")\\\n",
        "      .replace(\"l4\", \"14\")\\\n",
        "      .replace(\",\", \"\")\\\n",
        "      .replace(\" . \", \" \")\\\n",
        "      .replace(\" - \", \" \")\\\n",
        "      .replace(\"\\s+\", \" \")\n",
        "    \n",
        "    table = re.sub(\"OS-([A-Z]{3})\", r\"05-\\1\", table,  flags=re.I)\n",
        "    table = re.sub(\"(\\d{1,2})\\.*-\\.*([A-Z]{3})\\.*-\\.*(\\d{2,4})\", r\"\\1-\\2-\\3\", table,  flags=re.I)\n",
        "    table = re.sub(\"\\s+(O|l)\\s*-\\s*([A-Z]{3})\\s*-\\s*(\\d{2,4})\", r\"01-\\2-\\3\")\n",
        "     \n",
        "    page_num_printed = page_num_printed + 1\n",
        "  \n",
        "    print(table)\n",
        "    print(\"----\")\n",
        "    '''\n",
        "    ## Rows ##\n",
        "    '''\n",
        "    for row in [x for x in table[2:].splitlines() if x]:\n",
        "      row = row.strip()\n",
        "      row = re.sub(\"-\\\\s*$\", \"\", row)\n",
        "      row = re.sub(\"^.*?\\\\s+\", \"\", row)\n",
        "      row = re.sub(\"^\\\\s*\\\\w+\\\\s+\", \"\", row)\n",
        "      row = re.sub(\"\\s+\\d+$\", \"\", row)\n",
        "      \n",
        "      if len(row) > 50  and\\\n",
        "        hasNumbers(row):\n",
        "        \n",
        "        print(row)\n",
        "        print(\"----\")\n",
        "        \n",
        "        # Check if the second last columna is a date columns or not\n",
        "        # In some cases the last date column is not read\n",
        "        row_cols = row.split(' ')\n",
        "        \n",
        "        last_col = row_cols[len(row_cols)-1].strip()\n",
        "        second_last_col = row_cols[len(row_cols)-2].strip()\n",
        "        \n",
        "        print(\"second last column: %s\"%second_last_col)\n",
        "        \n",
        "        if not bool(re.match(\"\\s*\\d{1,2}\\-[a-z]{3}\\-\\d{2,4}\\s*\", second_last_col, flags = re.I)):\n",
        "          # append the available date column at the end of the row\n",
        "          row = row + \" \"\\\n",
        "            + str(int(last_col.split(\"-\")[0]) + 1) + \"-\"\\\n",
        "            + last_col.split(\"-\")[1] + \"-\"\\\n",
        "            + last_col.split(\"-\")[2]\n",
        "          \n",
        "          print(\"Last date column missing. adding second last column: %s\"%second_last_col)\n",
        "          print(row)\n",
        "        \n",
        "        global r\n",
        "        r = row\n",
        "          \n",
        "        for col_name in col_names:\n",
        "          col_val = get_col()\n",
        "          cols[col_name] = col_val\n",
        "          col_val = re.sub(r\"([0-9]+)_\", \"\\g<1>\",col_val)\n",
        "          col_val = re.sub(r\"_([0-9]+)\", \"\\g<1>\",col_val)\n",
        "          col_val = re.sub(r\"\\s+-([0-9]+)\", \" \\g<1>\",col_val)\n",
        "          col_val = re.sub(r\"([0-9]+)-\\s+\", \"\\g<1> \",col_val)\n",
        "          \n",
        "          # Write in spreadsheet\n",
        "          i = 0\n",
        "          cell = cells[i] + str(sheet_row_num)    \n",
        "          sheet[cell].value= col_val\n",
        "          i = i + 1\n",
        "\n",
        "        r = re.sub(\"\\\\s+\", \"_\", r)\n",
        "        cols[\"spool_no\"] = r\n",
        "        cell =\"D\"+str(sheet_row_num)    \n",
        "        sheet[cell].value = r\n",
        "\n",
        "        cell =\"C\"+str(sheet_row_num)    \n",
        "        sheet[cell].value = page_num\n",
        "      \n",
        "        sheet_row_num = sheet_row_num + 1\n",
        "\n",
        "#       wb.save(\"/content/gdrive/My Drive/Colab Notebooks/data/excel_instructions.xlsx\")\n",
        "  except Exception:\n",
        "    print(\"Exception on page%i\" %page_num)\n",
        "    traceback.print_exc()\n",
        "    pass\n",
        "    \n"
      ],
      "execution_count": 72,
      "outputs": [
        {
          "output_type": "stream",
          "text": [
            "Page#1\n",
            "Page num printed#5491\n",
            "Exception on page1\n"
          ],
          "name": "stdout"
        },
        {
          "output_type": "error",
          "ename": "NameError",
          "evalue": "ignored",
          "traceback": [
            "\u001b[0;31m---------------------------------------------------------------------------\u001b[0m",
            "\u001b[0;31mTypeError\u001b[0m                                 Traceback (most recent call last)",
            "\u001b[0;32m<ipython-input-72-92ba9e89ae49>\u001b[0m in \u001b[0;36m<module>\u001b[0;34m()\u001b[0m\n\u001b[1;32m     37\u001b[0m     \u001b[0mtable\u001b[0m \u001b[0;34m=\u001b[0m \u001b[0mre\u001b[0m\u001b[0;34m.\u001b[0m\u001b[0msub\u001b[0m\u001b[0;34m(\u001b[0m\u001b[0;34m\"(\\d{1,2})\\.*-\\.*([A-Z]{3})\\.*-\\.*(\\d{2,4})\"\u001b[0m\u001b[0;34m,\u001b[0m \u001b[0;34mr\"\\1-\\2-\\3\"\u001b[0m\u001b[0;34m,\u001b[0m \u001b[0mtable\u001b[0m\u001b[0;34m,\u001b[0m  \u001b[0mflags\u001b[0m\u001b[0;34m=\u001b[0m\u001b[0mre\u001b[0m\u001b[0;34m.\u001b[0m\u001b[0mI\u001b[0m\u001b[0;34m)\u001b[0m\u001b[0;34m\u001b[0m\u001b[0;34m\u001b[0m\u001b[0m\n\u001b[0;32m---> 38\u001b[0;31m     \u001b[0mtable\u001b[0m \u001b[0;34m=\u001b[0m \u001b[0mre\u001b[0m\u001b[0;34m.\u001b[0m\u001b[0msub\u001b[0m\u001b[0;34m(\u001b[0m\u001b[0;34m\"\\s+(O|l)\\s*-\\s*([A-Z]{3})\\s*-\\s*(\\d{2,4})\"\u001b[0m\u001b[0;34m,\u001b[0m \u001b[0;34mr\"01-\\2-\\3\"\u001b[0m\u001b[0;34m)\u001b[0m\u001b[0;34m\u001b[0m\u001b[0;34m\u001b[0m\u001b[0m\n\u001b[0m\u001b[1;32m     39\u001b[0m \u001b[0;34m\u001b[0m\u001b[0m\n",
            "\u001b[0;31mTypeError\u001b[0m: sub() missing 1 required positional argument: 'string'",
            "\nDuring handling of the above exception, another exception occurred:\n",
            "\u001b[0;31mNameError\u001b[0m                                 Traceback (most recent call last)",
            "\u001b[0;32m<ipython-input-72-92ba9e89ae49>\u001b[0m in \u001b[0;36m<module>\u001b[0;34m()\u001b[0m\n\u001b[1;32m    103\u001b[0m   \u001b[0;32mexcept\u001b[0m \u001b[0mException\u001b[0m\u001b[0;34m:\u001b[0m\u001b[0;34m\u001b[0m\u001b[0;34m\u001b[0m\u001b[0m\n\u001b[1;32m    104\u001b[0m     \u001b[0mprint\u001b[0m\u001b[0;34m(\u001b[0m\u001b[0;34m\"Exception on page%i\"\u001b[0m \u001b[0;34m%\u001b[0m\u001b[0mpage_num\u001b[0m\u001b[0;34m)\u001b[0m\u001b[0;34m\u001b[0m\u001b[0;34m\u001b[0m\u001b[0m\n\u001b[0;32m--> 105\u001b[0;31m     \u001b[0mtraceback\u001b[0m\u001b[0;34m.\u001b[0m\u001b[0mprint_exc\u001b[0m\u001b[0;34m(\u001b[0m\u001b[0;34m)\u001b[0m\u001b[0;34m\u001b[0m\u001b[0;34m\u001b[0m\u001b[0m\n\u001b[0m\u001b[1;32m    106\u001b[0m     \u001b[0;32mpass\u001b[0m\u001b[0;34m\u001b[0m\u001b[0;34m\u001b[0m\u001b[0m\n\u001b[1;32m    107\u001b[0m \u001b[0;34m\u001b[0m\u001b[0m\n",
            "\u001b[0;31mNameError\u001b[0m: name 'traceback' is not defined"
          ]
        }
      ]
    },
    {
      "cell_type": "code",
      "metadata": {
        "id": "ACU_dqtYt4zu",
        "colab_type": "code",
        "colab": {}
      },
      "source": [
        ""
      ],
      "execution_count": 0,
      "outputs": []
    }
  ]
}