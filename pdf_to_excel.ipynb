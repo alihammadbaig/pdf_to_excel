{
  "nbformat": 4,
  "nbformat_minor": 0,
  "metadata": {
    "colab": {
      "name": "pdf_to_excel.ipynb",
      "version": "0.3.2",
      "provenance": [],
      "collapsed_sections": [],
      "include_colab_link": true
    },
    "kernelspec": {
      "name": "python3",
      "display_name": "Python 3"
    }
  },
  "cells": [
    {
      "cell_type": "markdown",
      "metadata": {
        "id": "view-in-github",
        "colab_type": "text"
      },
      "source": [
        "<a href=\"https://colab.research.google.com/github/alihammadbaig/pdf_to_excel/blob/master/pdf_to_excel.ipynb\" target=\"_parent\"><img src=\"https://colab.research.google.com/assets/colab-badge.svg\" alt=\"Open In Colab\"/></a>"
      ]
    },
    {
      "cell_type": "code",
      "metadata": {
        "id": "A10izPzRDa89",
        "colab_type": "code",
        "outputId": "c48ea3a5-71b8-42c5-e514-631f7bd12393",
        "colab": {
          "base_uri": "https://localhost:8080/",
          "height": 120
        }
      },
      "source": [
        "from google.colab import drive\n",
        "drive.mount('/content/gdrive')\n"
      ],
      "execution_count": 0,
      "outputs": [
        {
          "output_type": "stream",
          "text": [
            "Go to this URL in a browser: https://accounts.google.com/o/oauth2/auth?client_id=947318989803-6bn6qk8qdgf4n4g3pfee6491hc0brc4i.apps.googleusercontent.com&redirect_uri=urn%3Aietf%3Awg%3Aoauth%3A2.0%3Aoob&scope=email%20https%3A%2F%2Fwww.googleapis.com%2Fauth%2Fdocs.test%20https%3A%2F%2Fwww.googleapis.com%2Fauth%2Fdrive%20https%3A%2F%2Fwww.googleapis.com%2Fauth%2Fdrive.photos.readonly%20https%3A%2F%2Fwww.googleapis.com%2Fauth%2Fpeopleapi.readonly&response_type=code\n",
            "\n",
            "Enter your authorization code:\n",
            "··········\n",
            "Mounted at /content/gdrive\n"
          ],
          "name": "stdout"
        }
      ]
    },
    {
      "cell_type": "code",
      "metadata": {
        "id": "swWNUjIiD1x3",
        "colab_type": "code",
        "outputId": "4462ca20-ce19-444f-f7e3-2b2c0db83ff4",
        "colab": {
          "base_uri": "https://localhost:8080/",
          "height": 34
        }
      },
      "source": [
        "!ls \"/content/gdrive/My Drive/data\""
      ],
      "execution_count": 0,
      "outputs": [
        {
          "output_type": "stream",
          "text": [
            "Mall_Customers.csv  pdf_to_excel.pdf\n"
          ],
          "name": "stdout"
        }
      ]
    },
    {
      "cell_type": "code",
      "metadata": {
        "id": "8oK9ft3kIU7-",
        "colab_type": "code",
        "outputId": "f5df11de-c0bc-4f8b-a0dc-9b91323b9119",
        "colab": {
          "base_uri": "https://localhost:8080/",
          "height": 251
        }
      },
      "source": [
        "pip install tika"
      ],
      "execution_count": 0,
      "outputs": [
        {
          "output_type": "stream",
          "text": [
            "Collecting tika\n",
            "  Downloading https://files.pythonhosted.org/packages/10/75/b566e446ffcf292f10c8d84c15a3d91615fe3d7ca8072a17c949d4e84b66/tika-1.19.tar.gz\n",
            "Requirement already satisfied: setuptools in /usr/local/lib/python3.6/dist-packages (from tika) (41.0.1)\n",
            "Requirement already satisfied: requests in /usr/local/lib/python3.6/dist-packages (from tika) (2.21.0)\n",
            "Requirement already satisfied: certifi>=2017.4.17 in /usr/local/lib/python3.6/dist-packages (from requests->tika) (2019.3.9)\n",
            "Requirement already satisfied: idna<2.9,>=2.5 in /usr/local/lib/python3.6/dist-packages (from requests->tika) (2.8)\n",
            "Requirement already satisfied: chardet<3.1.0,>=3.0.2 in /usr/local/lib/python3.6/dist-packages (from requests->tika) (3.0.4)\n",
            "Requirement already satisfied: urllib3<1.25,>=1.21.1 in /usr/local/lib/python3.6/dist-packages (from requests->tika) (1.24.3)\n",
            "Building wheels for collected packages: tika\n",
            "  Building wheel for tika (setup.py) ... \u001b[?25l\u001b[?25hdone\n",
            "  Stored in directory: /root/.cache/pip/wheels/b4/db/8a/3a3f0c0725448eaa92703e3dda71e29dc13a119ff6c1036848\n",
            "Successfully built tika\n",
            "Installing collected packages: tika\n",
            "Successfully installed tika-1.19\n"
          ],
          "name": "stdout"
        }
      ]
    },
    {
      "cell_type": "code",
      "metadata": {
        "id": "oXoi3IXeSgWL",
        "colab_type": "code",
        "colab": {}
      },
      "source": [
        "# Text parsing library\n",
        "import tika\n",
        "from tika import parser\n",
        "\n",
        "# Deal with regular expression(text processing)\n",
        "import re\n",
        "\n",
        "# Handle the excel spreadsheet\n",
        "import openpyxl\n",
        "\n",
        "import os\n",
        "\n",
        "tika.initVM()\n",
        "\n",
        "# Read the PDF file\n",
        "parsed = parser.from_file('/content/gdrive/My Drive/Colab Notebooks/data/sample_pdf_for_excel.pdf')\n",
        "# print(parsed[\"metadata\"][\"xmpTPg:NPages\"])\n",
        "content = parsed[\"content\"].strip()\n"
      ],
      "execution_count": 0,
      "outputs": []
    },
    {
      "cell_type": "code",
      "metadata": {
        "id": "r3AToIzKSyq9",
        "colab_type": "code",
        "colab": {}
      },
      "source": [
        "\n",
        "f = open(\"/content/gdrive/My Drive/Colab Notebooks/data/pdf_content.txt\", \"w\")\n",
        "f.write(content)\n",
        "f.close()\n",
        "\n",
        "# content = f.open(\"/content/gdrive/My Drive/Colab Notebooks/data/pdf_content.txt\", \"f\")\n",
        "with open('/content/gdrive/My Drive/Colab Notebooks/data/pdf_content.txt', 'r') as myfile:\n",
        "  content = myfile.read()"
      ],
      "execution_count": 0,
      "outputs": []
    },
    {
      "cell_type": "code",
      "metadata": {
        "id": "TB8UcXPSOiRt",
        "colab_type": "code",
        "outputId": "cfbc9e26-6ce2-42ee-a63e-bba9cf18a582",
        "colab": {
          "base_uri": "https://localhost:8080/",
          "height": 420
        }
      },
      "source": [
        "# Text parsing library\n",
        "import tika\n",
        "from tika import parser\n",
        "\n",
        "# Deal with regular expression(text processing)\n",
        "import re\n",
        "\n",
        "# Handle the excel spreadsheet\n",
        "import openpyxl\n",
        "\n",
        "import os\n",
        "\n",
        "tika.initVM()\n",
        "\n",
        "# Read the PDF file\n",
        "# parsed = parser.from_file('/content/gdrive/My Drive/Colab Notebooks/data/sample_pdf_for_excel.pdf')\n",
        "# print(parsed[\"metadata\"][\"xmpTPg:NPages\"])\n",
        "# content = parsed[\"content\"].strip()\n",
        "\n",
        "# Read the spreadsheet for later use\n",
        "wb = openpyxl.load_workbook(\"/content/gdrive/My Drive/Colab Notebooks/data/excel_instructions.xlsx\")\n",
        "sheet = wb['Template']\n",
        "# Starting writing the sheet beginning line#2\n",
        "sheet_row_num = 2\n",
        "\n",
        "# PDF columns\n",
        "col_names = [\"top_coat_date\", \"blast_primer_date\"\n",
        "             ,\"dft1_ave\", \"dft1_5\", \"dft1_4\", \"dft1_3\", \"dft1_2\", \"dft1_1\"\n",
        "             ,\"dft2_ave\", \"dft2_5\", \"dft2_4\", \"dft2_3\", \"dft2_2\", \"dft2_1\"\n",
        "             , \"sys_tem\"]\n",
        "\n",
        "# Spreadsheet cells\n",
        "cells = [\"AL\", \"S\", \"AC\", \"AB\", \"AA\", \"Z\", \"Y\", \"X\", \"K\", \"J\", \"I\", \"H\", \"G\", \"F\", \"D\"]\n",
        "\n",
        "cols = {}\n",
        "\n",
        "def get_col():\n",
        "  global r\n",
        "  r = r.strip()\n",
        "  val = r[r.rfind(\" \") : len(r)]\n",
        "  r = r[0 : r.rfind(\" \")]\n",
        "  return val\n",
        "\n"
      ],
      "execution_count": 67,
      "outputs": [
        {
          "output_type": "error",
          "ename": "BadZipFile",
          "evalue": "ignored",
          "traceback": [
            "\u001b[0;31m---------------------------------------------------------------------------\u001b[0m",
            "\u001b[0;31mBadZipFile\u001b[0m                                Traceback (most recent call last)",
            "\u001b[0;32m/usr/local/lib/python3.6/dist-packages/openpyxl/reader/excel.py\u001b[0m in \u001b[0;36m_validate_archive\u001b[0;34m(filename)\u001b[0m\n\u001b[1;32m    120\u001b[0m     \u001b[0;32mtry\u001b[0m\u001b[0;34m:\u001b[0m\u001b[0;34m\u001b[0m\u001b[0;34m\u001b[0m\u001b[0m\n\u001b[0;32m--> 121\u001b[0;31m         \u001b[0marchive\u001b[0m \u001b[0;34m=\u001b[0m \u001b[0mZipFile\u001b[0m\u001b[0;34m(\u001b[0m\u001b[0mfilename\u001b[0m\u001b[0;34m,\u001b[0m \u001b[0;34m'r'\u001b[0m\u001b[0;34m,\u001b[0m \u001b[0mZIP_DEFLATED\u001b[0m\u001b[0;34m)\u001b[0m\u001b[0;34m\u001b[0m\u001b[0;34m\u001b[0m\u001b[0m\n\u001b[0m\u001b[1;32m    122\u001b[0m     \u001b[0;32mexcept\u001b[0m \u001b[0mBadZipfile\u001b[0m\u001b[0;34m:\u001b[0m\u001b[0;34m\u001b[0m\u001b[0;34m\u001b[0m\u001b[0m\n",
            "\u001b[0;32m/usr/lib/python3.6/zipfile.py\u001b[0m in \u001b[0;36m__init__\u001b[0;34m(self, file, mode, compression, allowZip64)\u001b[0m\n\u001b[1;32m   1130\u001b[0m             \u001b[0;32mif\u001b[0m \u001b[0mmode\u001b[0m \u001b[0;34m==\u001b[0m \u001b[0;34m'r'\u001b[0m\u001b[0;34m:\u001b[0m\u001b[0;34m\u001b[0m\u001b[0;34m\u001b[0m\u001b[0m\n\u001b[0;32m-> 1131\u001b[0;31m                 \u001b[0mself\u001b[0m\u001b[0;34m.\u001b[0m\u001b[0m_RealGetContents\u001b[0m\u001b[0;34m(\u001b[0m\u001b[0;34m)\u001b[0m\u001b[0;34m\u001b[0m\u001b[0;34m\u001b[0m\u001b[0m\n\u001b[0m\u001b[1;32m   1132\u001b[0m             \u001b[0;32melif\u001b[0m \u001b[0mmode\u001b[0m \u001b[0;32min\u001b[0m \u001b[0;34m(\u001b[0m\u001b[0;34m'w'\u001b[0m\u001b[0;34m,\u001b[0m \u001b[0;34m'x'\u001b[0m\u001b[0;34m)\u001b[0m\u001b[0;34m:\u001b[0m\u001b[0;34m\u001b[0m\u001b[0;34m\u001b[0m\u001b[0m\n",
            "\u001b[0;32m/usr/lib/python3.6/zipfile.py\u001b[0m in \u001b[0;36m_RealGetContents\u001b[0;34m(self)\u001b[0m\n\u001b[1;32m   1197\u001b[0m         \u001b[0;32mif\u001b[0m \u001b[0;32mnot\u001b[0m \u001b[0mendrec\u001b[0m\u001b[0;34m:\u001b[0m\u001b[0;34m\u001b[0m\u001b[0;34m\u001b[0m\u001b[0m\n\u001b[0;32m-> 1198\u001b[0;31m             \u001b[0;32mraise\u001b[0m \u001b[0mBadZipFile\u001b[0m\u001b[0;34m(\u001b[0m\u001b[0;34m\"File is not a zip file\"\u001b[0m\u001b[0;34m)\u001b[0m\u001b[0;34m\u001b[0m\u001b[0;34m\u001b[0m\u001b[0m\n\u001b[0m\u001b[1;32m   1199\u001b[0m         \u001b[0;32mif\u001b[0m \u001b[0mself\u001b[0m\u001b[0;34m.\u001b[0m\u001b[0mdebug\u001b[0m \u001b[0;34m>\u001b[0m \u001b[0;36m1\u001b[0m\u001b[0;34m:\u001b[0m\u001b[0;34m\u001b[0m\u001b[0;34m\u001b[0m\u001b[0m\n",
            "\u001b[0;31mBadZipFile\u001b[0m: File is not a zip file",
            "\nDuring handling of the above exception, another exception occurred:\n",
            "\u001b[0;31mBadZipFile\u001b[0m                                Traceback (most recent call last)",
            "\u001b[0;32m<ipython-input-67-72bea4cbce0d>\u001b[0m in \u001b[0;36m<module>\u001b[0;34m()\u001b[0m\n\u001b[1;32m     18\u001b[0m \u001b[0;34m\u001b[0m\u001b[0m\n\u001b[1;32m     19\u001b[0m \u001b[0;31m# Read the spreadsheet for later use\u001b[0m\u001b[0;34m\u001b[0m\u001b[0;34m\u001b[0m\u001b[0;34m\u001b[0m\u001b[0m\n\u001b[0;32m---> 20\u001b[0;31m \u001b[0mwb\u001b[0m \u001b[0;34m=\u001b[0m \u001b[0mopenpyxl\u001b[0m\u001b[0;34m.\u001b[0m\u001b[0mload_workbook\u001b[0m\u001b[0;34m(\u001b[0m\u001b[0;34m\"/content/gdrive/My Drive/Colab Notebooks/data/excel_instructions.xlsx\"\u001b[0m\u001b[0;34m)\u001b[0m\u001b[0;34m\u001b[0m\u001b[0;34m\u001b[0m\u001b[0m\n\u001b[0m\u001b[1;32m     21\u001b[0m \u001b[0msheet\u001b[0m \u001b[0;34m=\u001b[0m \u001b[0mwb\u001b[0m\u001b[0;34m[\u001b[0m\u001b[0;34m'Template'\u001b[0m\u001b[0;34m]\u001b[0m\u001b[0;34m\u001b[0m\u001b[0;34m\u001b[0m\u001b[0m\n\u001b[1;32m     22\u001b[0m \u001b[0;34m\u001b[0m\u001b[0m\n",
            "\u001b[0;32m/usr/local/lib/python3.6/dist-packages/openpyxl/reader/excel.py\u001b[0m in \u001b[0;36mload_workbook\u001b[0;34m(filename, read_only, keep_vba, data_only, guess_types, keep_links)\u001b[0m\n\u001b[1;32m    172\u001b[0m \u001b[0;34m\u001b[0m\u001b[0m\n\u001b[1;32m    173\u001b[0m     \"\"\"\n\u001b[0;32m--> 174\u001b[0;31m     \u001b[0marchive\u001b[0m \u001b[0;34m=\u001b[0m \u001b[0m_validate_archive\u001b[0m\u001b[0;34m(\u001b[0m\u001b[0mfilename\u001b[0m\u001b[0;34m)\u001b[0m\u001b[0;34m\u001b[0m\u001b[0;34m\u001b[0m\u001b[0m\n\u001b[0m\u001b[1;32m    175\u001b[0m \u001b[0;34m\u001b[0m\u001b[0m\n\u001b[1;32m    176\u001b[0m     \u001b[0msrc\u001b[0m \u001b[0;34m=\u001b[0m \u001b[0marchive\u001b[0m\u001b[0;34m.\u001b[0m\u001b[0mread\u001b[0m\u001b[0;34m(\u001b[0m\u001b[0mARC_CONTENT_TYPES\u001b[0m\u001b[0;34m)\u001b[0m\u001b[0;34m\u001b[0m\u001b[0;34m\u001b[0m\u001b[0m\n",
            "\u001b[0;32m/usr/local/lib/python3.6/dist-packages/openpyxl/reader/excel.py\u001b[0m in \u001b[0;36m_validate_archive\u001b[0;34m(filename)\u001b[0m\n\u001b[1;32m    122\u001b[0m     \u001b[0;32mexcept\u001b[0m \u001b[0mBadZipfile\u001b[0m\u001b[0;34m:\u001b[0m\u001b[0;34m\u001b[0m\u001b[0;34m\u001b[0m\u001b[0m\n\u001b[1;32m    123\u001b[0m         \u001b[0mf\u001b[0m \u001b[0;34m=\u001b[0m \u001b[0mrepair_central_directory\u001b[0m\u001b[0;34m(\u001b[0m\u001b[0mfilename\u001b[0m\u001b[0;34m,\u001b[0m \u001b[0mis_file_like\u001b[0m\u001b[0;34m)\u001b[0m\u001b[0;34m\u001b[0m\u001b[0;34m\u001b[0m\u001b[0m\n\u001b[0;32m--> 124\u001b[0;31m         \u001b[0marchive\u001b[0m \u001b[0;34m=\u001b[0m \u001b[0mZipFile\u001b[0m\u001b[0;34m(\u001b[0m\u001b[0mf\u001b[0m\u001b[0;34m,\u001b[0m \u001b[0;34m'r'\u001b[0m\u001b[0;34m,\u001b[0m \u001b[0mZIP_DEFLATED\u001b[0m\u001b[0;34m)\u001b[0m\u001b[0;34m\u001b[0m\u001b[0;34m\u001b[0m\u001b[0m\n\u001b[0m\u001b[1;32m    125\u001b[0m     \u001b[0;32mreturn\u001b[0m \u001b[0marchive\u001b[0m\u001b[0;34m\u001b[0m\u001b[0;34m\u001b[0m\u001b[0m\n\u001b[1;32m    126\u001b[0m \u001b[0;34m\u001b[0m\u001b[0m\n",
            "\u001b[0;32m/usr/lib/python3.6/zipfile.py\u001b[0m in \u001b[0;36m__init__\u001b[0;34m(self, file, mode, compression, allowZip64)\u001b[0m\n\u001b[1;32m   1129\u001b[0m         \u001b[0;32mtry\u001b[0m\u001b[0;34m:\u001b[0m\u001b[0;34m\u001b[0m\u001b[0;34m\u001b[0m\u001b[0m\n\u001b[1;32m   1130\u001b[0m             \u001b[0;32mif\u001b[0m \u001b[0mmode\u001b[0m \u001b[0;34m==\u001b[0m \u001b[0;34m'r'\u001b[0m\u001b[0;34m:\u001b[0m\u001b[0;34m\u001b[0m\u001b[0;34m\u001b[0m\u001b[0m\n\u001b[0;32m-> 1131\u001b[0;31m                 \u001b[0mself\u001b[0m\u001b[0;34m.\u001b[0m\u001b[0m_RealGetContents\u001b[0m\u001b[0;34m(\u001b[0m\u001b[0;34m)\u001b[0m\u001b[0;34m\u001b[0m\u001b[0;34m\u001b[0m\u001b[0m\n\u001b[0m\u001b[1;32m   1132\u001b[0m             \u001b[0;32melif\u001b[0m \u001b[0mmode\u001b[0m \u001b[0;32min\u001b[0m \u001b[0;34m(\u001b[0m\u001b[0;34m'w'\u001b[0m\u001b[0;34m,\u001b[0m \u001b[0;34m'x'\u001b[0m\u001b[0;34m)\u001b[0m\u001b[0;34m:\u001b[0m\u001b[0;34m\u001b[0m\u001b[0;34m\u001b[0m\u001b[0m\n\u001b[1;32m   1133\u001b[0m                 \u001b[0;31m# set the modified flag so central directory gets written\u001b[0m\u001b[0;34m\u001b[0m\u001b[0;34m\u001b[0m\u001b[0;34m\u001b[0m\u001b[0m\n",
            "\u001b[0;32m/usr/lib/python3.6/zipfile.py\u001b[0m in \u001b[0;36m_RealGetContents\u001b[0;34m(self)\u001b[0m\n\u001b[1;32m   1196\u001b[0m             \u001b[0;32mraise\u001b[0m \u001b[0mBadZipFile\u001b[0m\u001b[0;34m(\u001b[0m\u001b[0;34m\"File is not a zip file\"\u001b[0m\u001b[0;34m)\u001b[0m\u001b[0;34m\u001b[0m\u001b[0;34m\u001b[0m\u001b[0m\n\u001b[1;32m   1197\u001b[0m         \u001b[0;32mif\u001b[0m \u001b[0;32mnot\u001b[0m \u001b[0mendrec\u001b[0m\u001b[0;34m:\u001b[0m\u001b[0;34m\u001b[0m\u001b[0;34m\u001b[0m\u001b[0m\n\u001b[0;32m-> 1198\u001b[0;31m             \u001b[0;32mraise\u001b[0m \u001b[0mBadZipFile\u001b[0m\u001b[0;34m(\u001b[0m\u001b[0;34m\"File is not a zip file\"\u001b[0m\u001b[0;34m)\u001b[0m\u001b[0;34m\u001b[0m\u001b[0;34m\u001b[0m\u001b[0m\n\u001b[0m\u001b[1;32m   1199\u001b[0m         \u001b[0;32mif\u001b[0m \u001b[0mself\u001b[0m\u001b[0;34m.\u001b[0m\u001b[0mdebug\u001b[0m \u001b[0;34m>\u001b[0m \u001b[0;36m1\u001b[0m\u001b[0;34m:\u001b[0m\u001b[0;34m\u001b[0m\u001b[0;34m\u001b[0m\u001b[0m\n\u001b[1;32m   1200\u001b[0m             \u001b[0mprint\u001b[0m\u001b[0;34m(\u001b[0m\u001b[0mendrec\u001b[0m\u001b[0;34m)\u001b[0m\u001b[0;34m\u001b[0m\u001b[0;34m\u001b[0m\u001b[0m\n",
            "\u001b[0;31mBadZipFile\u001b[0m: File is not a zip file"
          ]
        }
      ]
    },
    {
      "cell_type": "code",
      "metadata": {
        "id": "sCdQhgN3iAo-",
        "colab_type": "code",
        "colab": {}
      },
      "source": [
        "# c = content[:11000].strip()\n",
        "c = content\n",
        "page_num_printed = 5479\n",
        "page_num = 1\n",
        "skip = 11\n",
        "total_pages = int(parsed[\"metadata\"][\"xmpTPg:NPages\"].strip())+1\n",
        "\n",
        "for page_num in range(1, total_pages):\n",
        "  print(\"Page#%i\"%page_num)\n",
        "  print(\"Page num printed#%i\"%page_num_printed)\n",
        "  \n",
        "  start_of_page = \"Page \" + str(page_num_printed) +\" of 13699\"\n",
        "  end_of_page = \"Page \" + str(page_num_printed + 1) +\" of 13699\"\n",
        "  page_content = c[c.find(start_of_page): c.find(end_of_page)]\n",
        "  \n",
        "  print(page_content)\n",
        "  \n",
        "  try:\n",
        "    p = re.compile(\"(A*VE\\\\s+DATE)\", re.IGNORECASE)\n",
        "    for m in p.finditer(page_content):\n",
        "      start_of_table = m.start()+8\n",
        "\n",
        "    end_of_table = re.search(\"FINAL\\\\s+INSPECTION\", page_content, flags = re.I)\n",
        "    if end_of_table is None:\n",
        "      end_of_table = re.search(\"VISUAL\\\\s+INSPECTION\", page_content, flags = re.I)\n",
        "      skip = 29\n",
        "    \n",
        "    if end_of_table is None: \n",
        "      end_of_table = re.search(\"\\\\(REMARK\", page_content, flags = re.I)\n",
        "      skip = 50\n",
        "    \n",
        "    end_of_table = end_of_table.start() - skip\n",
        "    \n",
        "    table = page_content[start_of_table:end_of_table]\n",
        "\n",
        "    # Data cleansing\n",
        "    table = table.replace(\"·\",\"-\")\\\n",
        "      .replace(\"•\",\"\")\\\n",
        "      .replace(\" ' \",\" \")\\\n",
        "      .replace(\"l4\", \"14\")\\\n",
        "      .replace(\",\", \"\")\n",
        "\n",
        "    table = re.sub(\"OS-([A-Z]{3})\", r\"05-\\1\", table,  flags=re.I)\n",
        "\n",
        "    page_num_printed = page_num_printed + 1\n",
        "\n",
        "#     print(table)\n",
        "\n",
        "#     # Parse table row by row\n",
        "#     for row in [x for x in table[2:].splitlines() if x]:\n",
        "#       row = row.strip()\n",
        "#       row = re.sub(\"-\\\\s*$\", \"\", row)\n",
        "#   #     row = re.sub(\"^\\\\s*(\\\\w+|-)\\\\s+\", \"\", row)\n",
        "#       row = re.sub(\"^.*?\\\\s+\", \"\", row)\n",
        "#       row = re.sub(\"^\\\\s*\\\\w+\\\\s+\", \"\", row)\n",
        "#   #     print(len(row))\n",
        "\n",
        "#       if len(row) > 1:\n",
        "#         global r\n",
        "#         r = row\n",
        "#         i = 0\n",
        "\n",
        "#         for col_name in col_names:\n",
        "#           col_val = get_col()\n",
        "#           cols[col_name] = col_val\n",
        "\n",
        "#           # Write in spreadsheet\n",
        "#           cell = cells[i] + str(sheet_row_num)    \n",
        "#           sheet[cell].value= col_val\n",
        "#       #     print(\"Value:{0}, cell:{1}\".format(col_val, cell))\n",
        "#           i = i + 1\n",
        "\n",
        "\n",
        "#         r = re.sub(\"\\\\s+\", \"_\", r)\n",
        "#         cols[\"spool_no\"] = r\n",
        "#         cell =\"D\"+str(sheet_row_num)    \n",
        "#         sheet[cell].value = r\n",
        "#       #   print(\"Value:{0}, cell:{1}\".format(r, cell))\n",
        "\n",
        "#         cell =\"C\"+str(sheet_row_num)    \n",
        "#         sheet[cell].value = page_num\n",
        "#       #   print(\"Value:{0}, cell:{1}\".format(page_num, cell))\n",
        "\n",
        "#         sheet_row_num = sheet_row_num + 1\n",
        "\n",
        "#       #   for k,v in cols.items():\n",
        "#       #     print(\"{0}:{1}\".format(k,v))\n",
        "\n",
        "#       wb.save(\"/content/gdrive/My Drive/Colab Notebooks/data/excel_instructions.xlsx\")\n",
        "  except Exception:\n",
        "    print(\"Exception on page%i\" %page_num)\n",
        "    traceback.print_exc()\n",
        "    pass\n",
        "    \n",
        "    "
      ],
      "execution_count": 0,
      "outputs": []
    }
  ]
}