{
  "nbformat": 4,
  "nbformat_minor": 0,
  "metadata": {
    "colab": {
      "name": "pdf_to_excel",
      "version": "0.3.2",
      "provenance": [],
      "include_colab_link": true
    },
    "kernelspec": {
      "name": "python3",
      "display_name": "Python 3"
    }
  },
  "cells": [
    {
      "cell_type": "markdown",
      "metadata": {
        "id": "view-in-github",
        "colab_type": "text"
      },
      "source": [
        "<a href=\"https://colab.research.google.com/github/alihammadbaig/pdf_to_excel/blob/master/pdf_to_excel.ipynb\" target=\"_parent\"><img src=\"https://colab.research.google.com/assets/colab-badge.svg\" alt=\"Open In Colab\"/></a>"
      ]
    },
    {
      "cell_type": "code",
      "metadata": {
        "id": "A10izPzRDa89",
        "colab_type": "code",
        "outputId": "87340e03-1e71-4394-d7a6-66d48caba115",
        "colab": {
          "base_uri": "https://localhost:8080/",
          "height": 34
        }
      },
      "source": [
        "from google.colab import drive\n",
        "drive.mount('/content/gdrive')\n"
      ],
      "execution_count": 0,
      "outputs": [
        {
          "output_type": "stream",
          "text": [
            "Drive already mounted at /content/gdrive; to attempt to forcibly remount, call drive.mount(\"/content/gdrive\", force_remount=True).\n"
          ],
          "name": "stdout"
        }
      ]
    },
    {
      "cell_type": "code",
      "metadata": {
        "id": "swWNUjIiD1x3",
        "colab_type": "code",
        "outputId": "4462ca20-ce19-444f-f7e3-2b2c0db83ff4",
        "colab": {
          "base_uri": "https://localhost:8080/",
          "height": 34
        }
      },
      "source": [
        "!ls \"/content/gdrive/My Drive/data\""
      ],
      "execution_count": 0,
      "outputs": [
        {
          "output_type": "stream",
          "text": [
            "Mall_Customers.csv  pdf_to_excel.pdf\n"
          ],
          "name": "stdout"
        }
      ]
    },
    {
      "cell_type": "code",
      "metadata": {
        "id": "8oK9ft3kIU7-",
        "colab_type": "code",
        "colab": {}
      },
      "source": [
        "pip install tika"
      ],
      "execution_count": 0,
      "outputs": []
    },
    {
      "cell_type": "code",
      "metadata": {
        "id": "YZPsBRSGIaR6",
        "colab_type": "code",
        "outputId": "fa7ce65f-fdaf-43bf-f228-bb05451cd978",
        "colab": {
          "base_uri": "https://localhost:8080/",
          "height": 386
        }
      },
      "source": [
        "import tika\n",
        "import re\n",
        "\n",
        "tika.initVM()\n",
        "from tika import parser\n",
        "\n",
        "parsed = parser.from_file('/content/gdrive/My Drive/data/pdf_to_excel.pdf')\n",
        "# print(parsed[\"metadata\"])\n",
        "content = parsed[\"content\"]\n",
        "content = content.replace(\"Microsoft Word - Documents.docx\", \"\").strip()\n",
        "content = re.sub(\"\\n*File [0-9]+:\", \"|||||\", content)\n",
        "print(content)"
      ],
      "execution_count": 90,
      "outputs": [
        {
          "output_type": "stream",
          "text": [
            "||||| \n",
            "File Name: Instructions.docx \n",
            "File Size: 2 MB \n",
            "Download Link: https://www.sendspace.com/file/r59by6 \n",
            "Delete File \n",
            "Link: https://www.sendspace.com/delete/r59by6/57844a66dd1958f10f513c28bfe30c\n",
            "1f \n",
            " ||||| \n",
            "File Name: excel instructions.xlsx \n",
            "File Size: 995.5 KB \n",
            "Download Link: https://www.sendspace.com/file/lv6xjf \n",
            "Delete File \n",
            "Link: https://www.sendspace.com/delete/lv6xjf/7138a5de96bf4bf22d982b53dc56690\n",
            "6 \n",
            " ||||| \n",
            "File Name: L290-AQ-MDR-13850_0_SECTN_88OF107_IPX Reviewed_AC-\n",
            "OCR.pdf \n",
            "File Size: 173.3 MB \n",
            "Download Link: https://www.sendspace.com/file/mfj1z7 \n",
            "Delete File \n",
            "Link: https://www.sendspace.com/delete/mfj1z7/1c77539be54f2415c7a24ce5427a27\n",
            "81\n"
          ],
          "name": "stdout"
        }
      ]
    },
    {
      "cell_type": "code",
      "metadata": {
        "id": "eK3hE6LkE378",
        "colab_type": "code",
        "colab": {}
      },
      "source": [
        ""
      ],
      "execution_count": 0,
      "outputs": []
    },
    {
      "cell_type": "code",
      "metadata": {
        "id": "evSl8m8MCwuD",
        "colab_type": "code",
        "colab": {
          "base_uri": "https://localhost:8080/",
          "height": 420
        },
        "outputId": "279e757d-f57f-46d4-a2c6-3c40b957cd9e"
      },
      "source": [
        "section = content.split(\"|||||\")\n",
        "section = list(filter(None, section))\n",
        "\n",
        "d = {}\n",
        "\n",
        "i = 1\n",
        "for line in section:\n",
        "  d[\"File \"+str(i)] = line\n",
        "  i = i+1\n",
        "\n",
        "for k, v in d.items():\n",
        "  print(v)\n",
        "#   for line in v.splitlines():\n",
        "#     print(line)    \n",
        "#     print(\"----\")\n",
        "#     print(line.split(\" : \"))"
      ],
      "execution_count": 93,
      "outputs": [
        {
          "output_type": "stream",
          "text": [
            " \n",
            "File Name: Instructions.docx \n",
            "File Size: 2 MB \n",
            "Download Link: https://www.sendspace.com/file/r59by6 \n",
            "Delete File \n",
            "Link: https://www.sendspace.com/delete/r59by6/57844a66dd1958f10f513c28bfe30c\n",
            "1f \n",
            " \n",
            " \n",
            "File Name: excel instructions.xlsx \n",
            "File Size: 995.5 KB \n",
            "Download Link: https://www.sendspace.com/file/lv6xjf \n",
            "Delete File \n",
            "Link: https://www.sendspace.com/delete/lv6xjf/7138a5de96bf4bf22d982b53dc56690\n",
            "6 \n",
            " \n",
            " \n",
            "File Name: L290-AQ-MDR-13850_0_SECTN_88OF107_IPX Reviewed_AC-\n",
            "OCR.pdf \n",
            "File Size: 173.3 MB \n",
            "Download Link: https://www.sendspace.com/file/mfj1z7 \n",
            "Delete File \n",
            "Link: https://www.sendspace.com/delete/mfj1z7/1c77539be54f2415c7a24ce5427a27\n",
            "81\n"
          ],
          "name": "stdout"
        }
      ]
    },
    {
      "cell_type": "code",
      "metadata": {
        "id": "oYqhURxOJ_fo",
        "colab_type": "code",
        "outputId": "7e1ad2a8-b727-4ada-b4a4-6eccd06bd9e1",
        "colab": {
          "base_uri": "https://localhost:8080/",
          "height": 420
        }
      },
      "source": [
        "    \n"
      ],
      "execution_count": 0,
      "outputs": [
        {
          "output_type": "stream",
          "text": [
            "[' ']\n",
            "['File Name: Instructions.docx ']\n",
            "['File Size: 2 MB ']\n",
            "['Download Link: https://www.sendspace.com/file/r59by6 ']\n",
            "['Delete File ']\n",
            "['Link: https://www.sendspace.com/delete/r59by6/57844a66dd1958f10f513c28bfe30c']\n",
            "['1f ']\n",
            "[' ']\n",
            "[' ']\n",
            "['File Name: excel instructions.xlsx ']\n",
            "['File Size: 995.5 KB ']\n",
            "['Download Link: https://www.sendspace.com/file/lv6xjf ']\n",
            "['Delete File ']\n",
            "['Link: https://www.sendspace.com/delete/lv6xjf/7138a5de96bf4bf22d982b53dc56690']\n",
            "['6 ']\n",
            "[' ']\n",
            "[' ']\n",
            "['File Name: L290-AQ-MDR-13850_0_SECTN_88OF107_IPX Reviewed_AC-']\n",
            "['OCR.pdf ']\n",
            "['File Size: 173.3 MB ']\n",
            "['Download Link: https://www.sendspace.com/file/mfj1z7 ']\n",
            "['Delete File ']\n",
            "['Link: https://www.sendspace.com/delete/mfj1z7/1c77539be54f2415c7a24ce5427a27']\n",
            "['81']\n"
          ],
          "name": "stdout"
        }
      ]
    },
    {
      "cell_type": "code",
      "metadata": {
        "id": "4boFlEAdN9fz",
        "colab_type": "code",
        "colab": {}
      },
      "source": [
        "file = open(\"/content/gdrive/My Drive/data/pdf_to_excel.txt\",\"w\") \n",
        "file.write(content)\n",
        "file.close()"
      ],
      "execution_count": 0,
      "outputs": []
    },
    {
      "cell_type": "code",
      "metadata": {
        "id": "rcLNfz4dL_I0",
        "colab_type": "code",
        "outputId": "8545faf6-cd80-44ec-88c4-2b571fee1efc",
        "colab": {
          "base_uri": "https://localhost:8080/",
          "height": 34
        }
      },
      "source": [
        "match = re.match(r\"(^File [0-9]+):([^File [0-9]+].*)\", content, re.I)\n",
        "if match:\n",
        "    print(\"match\")\n",
        "    items = match.groups()\n",
        "\n",
        "items\n",
        "# re.split(\"File d+\", content)\n",
        "# key, value = content.split(\"File \")\n",
        "# my_dict = {key: value}\n",
        "\n",
        "# dict(zip(*content.split(':')))\n",
        "# dict(zip(*iter(content.split(':'))))"
      ],
      "execution_count": 0,
      "outputs": [
        {
          "output_type": "execute_result",
          "data": {
            "text/plain": [
              "('File 1',)"
            ]
          },
          "metadata": {
            "tags": []
          },
          "execution_count": 61
        }
      ]
    },
    {
      "cell_type": "code",
      "metadata": {
        "id": "TB8UcXPSOiRt",
        "colab_type": "code",
        "colab": {}
      },
      "source": [
        "\n",
        "\n"
      ],
      "execution_count": 0,
      "outputs": []
    }
  ]
}