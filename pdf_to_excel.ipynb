{
  "nbformat": 4,
  "nbformat_minor": 0,
  "metadata": {
    "colab": {
      "name": "pdf_to_excel",
      "version": "0.3.2",
      "provenance": [],
      "include_colab_link": true
    },
    "kernelspec": {
      "name": "python3",
      "display_name": "Python 3"
    }
  },
  "cells": [
    {
      "cell_type": "markdown",
      "metadata": {
        "id": "view-in-github",
        "colab_type": "text"
      },
      "source": [
        "<a href=\"https://colab.research.google.com/github/alihammadbaig/pdf_to_excel/blob/master/pdf_to_excel.ipynb\" target=\"_parent\"><img src=\"https://colab.research.google.com/assets/colab-badge.svg\" alt=\"Open In Colab\"/></a>"
      ]
    },
    {
      "cell_type": "code",
      "metadata": {
        "id": "A10izPzRDa89",
        "colab_type": "code",
        "outputId": "ff8fb631-04ac-415f-e95d-2134edc95d6b",
        "colab": {
          "base_uri": "https://localhost:8080/",
          "height": 121
        }
      },
      "source": [
        "from google.colab import drive\n",
        "drive.mount('/content/gdrive')\n"
      ],
      "execution_count": 1,
      "outputs": [
        {
          "output_type": "stream",
          "text": [
            "Go to this URL in a browser: https://accounts.google.com/o/oauth2/auth?client_id=947318989803-6bn6qk8qdgf4n4g3pfee6491hc0brc4i.apps.googleusercontent.com&redirect_uri=urn%3Aietf%3Awg%3Aoauth%3A2.0%3Aoob&scope=email%20https%3A%2F%2Fwww.googleapis.com%2Fauth%2Fdocs.test%20https%3A%2F%2Fwww.googleapis.com%2Fauth%2Fdrive%20https%3A%2F%2Fwww.googleapis.com%2Fauth%2Fdrive.photos.readonly%20https%3A%2F%2Fwww.googleapis.com%2Fauth%2Fpeopleapi.readonly&response_type=code\n",
            "\n",
            "Enter your authorization code:\n",
            "··········\n",
            "Mounted at /content/gdrive\n"
          ],
          "name": "stdout"
        }
      ]
    },
    {
      "cell_type": "code",
      "metadata": {
        "id": "swWNUjIiD1x3",
        "colab_type": "code",
        "outputId": "4462ca20-ce19-444f-f7e3-2b2c0db83ff4",
        "colab": {
          "base_uri": "https://localhost:8080/",
          "height": 34
        }
      },
      "source": [
        "!ls \"/content/gdrive/My Drive/data\""
      ],
      "execution_count": 0,
      "outputs": [
        {
          "output_type": "stream",
          "text": [
            "Mall_Customers.csv  pdf_to_excel.pdf\n"
          ],
          "name": "stdout"
        }
      ]
    },
    {
      "cell_type": "code",
      "metadata": {
        "id": "8oK9ft3kIU7-",
        "colab_type": "code",
        "outputId": "59369b5f-d389-4f39-d975-bc53e0236ba6",
        "colab": {
          "base_uri": "https://localhost:8080/",
          "height": 252
        }
      },
      "source": [
        "pip install tika"
      ],
      "execution_count": 2,
      "outputs": [
        {
          "output_type": "stream",
          "text": [
            "Collecting tika\n",
            "  Downloading https://files.pythonhosted.org/packages/10/75/b566e446ffcf292f10c8d84c15a3d91615fe3d7ca8072a17c949d4e84b66/tika-1.19.tar.gz\n",
            "Requirement already satisfied: setuptools in /usr/local/lib/python3.6/dist-packages (from tika) (41.0.1)\n",
            "Requirement already satisfied: requests in /usr/local/lib/python3.6/dist-packages (from tika) (2.21.0)\n",
            "Requirement already satisfied: idna<2.9,>=2.5 in /usr/local/lib/python3.6/dist-packages (from requests->tika) (2.8)\n",
            "Requirement already satisfied: certifi>=2017.4.17 in /usr/local/lib/python3.6/dist-packages (from requests->tika) (2019.3.9)\n",
            "Requirement already satisfied: urllib3<1.25,>=1.21.1 in /usr/local/lib/python3.6/dist-packages (from requests->tika) (1.24.3)\n",
            "Requirement already satisfied: chardet<3.1.0,>=3.0.2 in /usr/local/lib/python3.6/dist-packages (from requests->tika) (3.0.4)\n",
            "Building wheels for collected packages: tika\n",
            "  Building wheel for tika (setup.py) ... \u001b[?25l\u001b[?25hdone\n",
            "  Stored in directory: /root/.cache/pip/wheels/b4/db/8a/3a3f0c0725448eaa92703e3dda71e29dc13a119ff6c1036848\n",
            "Successfully built tika\n",
            "Installing collected packages: tika\n",
            "Successfully installed tika-1.19\n"
          ],
          "name": "stdout"
        }
      ]
    },
    {
      "cell_type": "code",
      "metadata": {
        "id": "YZPsBRSGIaR6",
        "colab_type": "code",
        "outputId": "c9c2a07d-a4fb-4c1f-f3b5-397c0e701cb8",
        "colab": {
          "base_uri": "https://localhost:8080/",
          "height": 386
        }
      },
      "source": [
        "import tika\n",
        "import re\n",
        "\n",
        "tika.initVM()\n",
        "from tika import parser\n",
        "\n",
        "parsed = parser.from_file('/content/gdrive/My Drive/data/pdf_to_excel.pdf')\n",
        "# print(parsed[\"metadata\"])\n",
        "content = parsed[\"content\"]\n",
        "content = content.replace(\"Microsoft Word - Documents.docx\", \"\").strip()\n",
        "content = re.sub(\"\\n*File [0-9]+:\", \"|||||\", content)\n",
        "print(content)"
      ],
      "execution_count": 0,
      "outputs": [
        {
          "output_type": "stream",
          "text": [
            "||||| \n",
            "File Name: Instructions.docx \n",
            "File Size: 2 MB \n",
            "Download Link: https://www.sendspace.com/file/r59by6 \n",
            "Delete File \n",
            "Link: https://www.sendspace.com/delete/r59by6/57844a66dd1958f10f513c28bfe30c\n",
            "1f \n",
            " ||||| \n",
            "File Name: excel instructions.xlsx \n",
            "File Size: 995.5 KB \n",
            "Download Link: https://www.sendspace.com/file/lv6xjf \n",
            "Delete File \n",
            "Link: https://www.sendspace.com/delete/lv6xjf/7138a5de96bf4bf22d982b53dc56690\n",
            "6 \n",
            " ||||| \n",
            "File Name: L290-AQ-MDR-13850_0_SECTN_88OF107_IPX Reviewed_AC-\n",
            "OCR.pdf \n",
            "File Size: 173.3 MB \n",
            "Download Link: https://www.sendspace.com/file/mfj1z7 \n",
            "Delete File \n",
            "Link: https://www.sendspace.com/delete/mfj1z7/1c77539be54f2415c7a24ce5427a27\n",
            "81\n"
          ],
          "name": "stdout"
        }
      ]
    },
    {
      "cell_type": "code",
      "metadata": {
        "id": "evSl8m8MCwuD",
        "colab_type": "code",
        "outputId": "e886882d-31fe-4084-cbd3-d26d69aa15c6",
        "colab": {
          "base_uri": "https://localhost:8080/",
          "height": 1075
        }
      },
      "source": [
        "section = content.split(\"|||||\")\n",
        "section = list(filter(None, section))\n",
        "section = [re.sub(r'(File\\s*\\n*Name)', \"File Name\", line) for line in section]\n",
        "section = [re.sub(r'(File\\s*\\n*Size)', \"File Size\", line) for line in section]\n",
        "section = [re.sub(r'(Download\\s*\\n*Link)', \"Download Link\", line) for line in section]\n",
        "section = [re.sub(r'(Delete\\s*\\n*File\\s*\\n*Link)', \"Delete File Link\", line) for line in section]\n",
        "\n",
        "d = {}\n",
        "\n",
        "i = 1\n",
        "for line in section:\n",
        "  d[\"File \"+str(i)] = line\n",
        "  i = i+1\n",
        "\n",
        "for k, v in d.items():\n",
        "  for line in v.splitlines():\n",
        "    print(line)    \n",
        "    print(\"----\")\n",
        "    print(line.split(\" : \"))"
      ],
      "execution_count": 0,
      "outputs": [
        {
          "output_type": "stream",
          "text": [
            " \n",
            "----\n",
            "[' ']\n",
            "File Name: Instructions.docx \n",
            "----\n",
            "['File Name: Instructions.docx ']\n",
            "File Size: 2 MB \n",
            "----\n",
            "['File Size: 2 MB ']\n",
            "Download Link: https://www.sendspace.com/file/r59by6 \n",
            "----\n",
            "['Download Link: https://www.sendspace.com/file/r59by6 ']\n",
            "Delete File Link: https://www.sendspace.com/delete/r59by6/57844a66dd1958f10f513c28bfe30c\n",
            "----\n",
            "['Delete File Link: https://www.sendspace.com/delete/r59by6/57844a66dd1958f10f513c28bfe30c']\n",
            "1f \n",
            "----\n",
            "['1f ']\n",
            " \n",
            "----\n",
            "[' ']\n",
            " \n",
            "----\n",
            "[' ']\n",
            "File Name: excel instructions.xlsx \n",
            "----\n",
            "['File Name: excel instructions.xlsx ']\n",
            "File Size: 995.5 KB \n",
            "----\n",
            "['File Size: 995.5 KB ']\n",
            "Download Link: https://www.sendspace.com/file/lv6xjf \n",
            "----\n",
            "['Download Link: https://www.sendspace.com/file/lv6xjf ']\n",
            "Delete File Link: https://www.sendspace.com/delete/lv6xjf/7138a5de96bf4bf22d982b53dc56690\n",
            "----\n",
            "['Delete File Link: https://www.sendspace.com/delete/lv6xjf/7138a5de96bf4bf22d982b53dc56690']\n",
            "6 \n",
            "----\n",
            "['6 ']\n",
            " \n",
            "----\n",
            "[' ']\n",
            " \n",
            "----\n",
            "[' ']\n",
            "File Name: L290-AQ-MDR-13850_0_SECTN_88OF107_IPX Reviewed_AC-\n",
            "----\n",
            "['File Name: L290-AQ-MDR-13850_0_SECTN_88OF107_IPX Reviewed_AC-']\n",
            "OCR.pdf \n",
            "----\n",
            "['OCR.pdf ']\n",
            "File Size: 173.3 MB \n",
            "----\n",
            "['File Size: 173.3 MB ']\n",
            "Download Link: https://www.sendspace.com/file/mfj1z7 \n",
            "----\n",
            "['Download Link: https://www.sendspace.com/file/mfj1z7 ']\n",
            "Delete File Link: https://www.sendspace.com/delete/mfj1z7/1c77539be54f2415c7a24ce5427a27\n",
            "----\n",
            "['Delete File Link: https://www.sendspace.com/delete/mfj1z7/1c77539be54f2415c7a24ce5427a27']\n",
            "81\n",
            "----\n",
            "['81']\n"
          ],
          "name": "stdout"
        }
      ]
    },
    {
      "cell_type": "code",
      "metadata": {
        "id": "oYqhURxOJ_fo",
        "colab_type": "code",
        "outputId": "7e1ad2a8-b727-4ada-b4a4-6eccd06bd9e1",
        "colab": {
          "base_uri": "https://localhost:8080/",
          "height": 420
        }
      },
      "source": [
        "    \n"
      ],
      "execution_count": 0,
      "outputs": [
        {
          "output_type": "stream",
          "text": [
            "[' ']\n",
            "['File Name: Instructions.docx ']\n",
            "['File Size: 2 MB ']\n",
            "['Download Link: https://www.sendspace.com/file/r59by6 ']\n",
            "['Delete File ']\n",
            "['Link: https://www.sendspace.com/delete/r59by6/57844a66dd1958f10f513c28bfe30c']\n",
            "['1f ']\n",
            "[' ']\n",
            "[' ']\n",
            "['File Name: excel instructions.xlsx ']\n",
            "['File Size: 995.5 KB ']\n",
            "['Download Link: https://www.sendspace.com/file/lv6xjf ']\n",
            "['Delete File ']\n",
            "['Link: https://www.sendspace.com/delete/lv6xjf/7138a5de96bf4bf22d982b53dc56690']\n",
            "['6 ']\n",
            "[' ']\n",
            "[' ']\n",
            "['File Name: L290-AQ-MDR-13850_0_SECTN_88OF107_IPX Reviewed_AC-']\n",
            "['OCR.pdf ']\n",
            "['File Size: 173.3 MB ']\n",
            "['Download Link: https://www.sendspace.com/file/mfj1z7 ']\n",
            "['Delete File ']\n",
            "['Link: https://www.sendspace.com/delete/mfj1z7/1c77539be54f2415c7a24ce5427a27']\n",
            "['81']\n"
          ],
          "name": "stdout"
        }
      ]
    },
    {
      "cell_type": "code",
      "metadata": {
        "id": "4boFlEAdN9fz",
        "colab_type": "code",
        "outputId": "7208154f-dbf7-4b99-f41c-0d5f57f89e01",
        "colab": {
          "base_uri": "https://localhost:8080/",
          "height": 195
        }
      },
      "source": [
        "file = open(\"/content/gdrive/My Drive/data/pdf_to_excel.txt\",\"w\") \n",
        "file.write(content)\n",
        "file.close()"
      ],
      "execution_count": 0,
      "outputs": [
        {
          "output_type": "error",
          "ename": "FileNotFoundError",
          "evalue": "ignored",
          "traceback": [
            "\u001b[0;31m---------------------------------------------------------------------------\u001b[0m",
            "\u001b[0;31mFileNotFoundError\u001b[0m                         Traceback (most recent call last)",
            "\u001b[0;32m<ipython-input-3-e01a1b80c152>\u001b[0m in \u001b[0;36m<module>\u001b[0;34m()\u001b[0m\n\u001b[0;32m----> 1\u001b[0;31m \u001b[0mfile\u001b[0m \u001b[0;34m=\u001b[0m \u001b[0mopen\u001b[0m\u001b[0;34m(\u001b[0m\u001b[0;34m\"/content/gdrive/My Drive/data/pdf_to_excel.txt\"\u001b[0m\u001b[0;34m,\u001b[0m\u001b[0;34m\"w\"\u001b[0m\u001b[0;34m)\u001b[0m\u001b[0;34m\u001b[0m\u001b[0;34m\u001b[0m\u001b[0m\n\u001b[0m\u001b[1;32m      2\u001b[0m \u001b[0mfile\u001b[0m\u001b[0;34m.\u001b[0m\u001b[0mwrite\u001b[0m\u001b[0;34m(\u001b[0m\u001b[0mcontent\u001b[0m\u001b[0;34m)\u001b[0m\u001b[0;34m\u001b[0m\u001b[0;34m\u001b[0m\u001b[0m\n\u001b[1;32m      3\u001b[0m \u001b[0mfile\u001b[0m\u001b[0;34m.\u001b[0m\u001b[0mclose\u001b[0m\u001b[0;34m(\u001b[0m\u001b[0;34m)\u001b[0m\u001b[0;34m\u001b[0m\u001b[0;34m\u001b[0m\u001b[0m\n",
            "\u001b[0;31mFileNotFoundError\u001b[0m: [Errno 2] No such file or directory: '/content/gdrive/My Drive/data/pdf_to_excel.txt'"
          ]
        }
      ]
    },
    {
      "cell_type": "code",
      "metadata": {
        "id": "rcLNfz4dL_I0",
        "colab_type": "code",
        "outputId": "8545faf6-cd80-44ec-88c4-2b571fee1efc",
        "colab": {
          "base_uri": "https://localhost:8080/",
          "height": 34
        }
      },
      "source": [
        "match = re.match(r\"(^File [0-9]+):([^File [0-9]+].*)\", content, re.I)\n",
        "if match:\n",
        "    print(\"match\")\n",
        "    items = match.groups()\n",
        "\n",
        "items\n",
        "# re.split(\"File d+\", content)\n",
        "# key, value = content.split(\"File \")\n",
        "# my_dict = {key: value}\n",
        "\n",
        "# dict(zip(*content.split(':')))\n",
        "# dict(zip(*iter(content.split(':'))))"
      ],
      "execution_count": 0,
      "outputs": [
        {
          "output_type": "execute_result",
          "data": {
            "text/plain": [
              "('File 1',)"
            ]
          },
          "metadata": {
            "tags": []
          },
          "execution_count": 61
        }
      ]
    },
    {
      "cell_type": "code",
      "metadata": {
        "id": "TB8UcXPSOiRt",
        "colab_type": "code",
        "colab": {
          "base_uri": "https://localhost:8080/",
          "height": 104
        },
        "outputId": "491b4f47-bab6-4d1b-8a06-7d01d995b978"
      },
      "source": [
        "import tika\n",
        "import re\n",
        "\n",
        "tika.initVM()\n",
        "from tika import parser\n",
        "\n",
        "parsed = parser.from_file('/content/gdrive/My Drive/Colab Notebooks/data/sample_pdf_for_excel.pdf')\n",
        "# print(parsed[\"metadata\"])\n",
        "content = parsed[\"content\"]\n",
        "\n",
        "\n",
        "\n",
        "\n"
      ],
      "execution_count": 3,
      "outputs": [
        {
          "output_type": "stream",
          "text": [
            "2019-06-04 10:45:56,399 [MainThread  ] [INFO ]  Retrieving http://search.maven.org/remotecontent?filepath=org/apache/tika/tika-server/1.19/tika-server-1.19.jar to /tmp/tika-server.jar.\n",
            "2019-06-04 10:45:57,235 [MainThread  ] [INFO ]  Retrieving http://search.maven.org/remotecontent?filepath=org/apache/tika/tika-server/1.19/tika-server-1.19.jar.md5 to /tmp/tika-server.jar.md5.\n",
            "2019-06-04 10:45:57,492 [MainThread  ] [WARNI]  Failed to see startup log message; retrying...\n",
            "2019-06-04 10:46:02,500 [MainThread  ] [WARNI]  Failed to see startup log message; retrying...\n"
          ],
          "name": "stderr"
        }
      ]
    },
    {
      "cell_type": "code",
      "metadata": {
        "id": "sCdQhgN3iAo-",
        "colab_type": "code",
        "outputId": "e21355ab-aad6-4383-e1c2-d88c468f7f96",
        "colab": {
          "base_uri": "https://localhost:8080/",
          "height": 504
        }
      },
      "source": [
        "c = content[:11000].strip()\n",
        "page_num = 5479\n",
        "start_of_page = \"Page \" + str(page_num) +\" of 13699\"\n",
        "end_of_page = \"Page \" + str(page_num + 1) +\" of 13699\"\n",
        "page = c[c.find(start_of_page): c.find(end_of_page)]\n",
        "\n",
        "start_of_table = re.search(\"AVE\\s+DATE\", page).start()+8\n",
        "end_of_table = re.search(\"FINAL\\s+INSPECTION\", page).start()-11\n",
        "table = page[start_of_table:end_of_table]\n",
        "\n",
        "# Data cleansing\n",
        "table = table.replace(\"·\",\"-\")\\\n",
        "  .replace(\"•\",\"\")\\\n",
        "  .replace(\" ' \",\" \")\\\n",
        "  .replace(\"l4\", \"14\")\n",
        "\n",
        "table = re.sub(\"OS\\-([A-Z]{3})\", r\"05-\\1\", table,  flags=re.I)\n",
        "\n",
        "print(table)\n",
        "  \n",
        "\n"
      ],
      "execution_count": 5,
      "outputs": [
        {
          "output_type": "stream",
          "text": [
            " \n",
            "1 S031109 A2EL-SS2 AM146-1SAO-HK-01 7 107 123 102 124 106 112 209 224 238 247 210 226 04-Nov-14 05-Nov-14 \n",
            "\n",
            "J20113 A2ED-702 CF241-1SBOV-02 7 102 118 111 118 113 112 202 219 233 203 219 215 04-Nov-14 05-Nov-14 -\n",
            "3 S046836, A2EB-582 PL033-6S80-03 7 112 122 107 122 105 114 213 223 242 246 214 228 04-Nov-14 05-Nov-14 \n",
            "\n",
            "4 5014458 A2EA-S92 PG015-1SCO-Q5 7 106 101 114 101 109 106 206 228 237 205 209 217 04-Nov-14 05-Nov-14 \n",
            "\n",
            "5 S042449 A2El-SS2 AM005-1SA0-19 7 101 117 103 117 112 110 201 218 232 250 218 224 04-Nov-14 05-Nov-14 \n",
            "\n",
            "6 S013917 A2EA-712 WS008-1SA0-05 7 111 121 112 121 104 114 210 222 241 202 213 218 04-Nov-14 05-Nov-14 \n",
            "\n",
            "7 S024105 C4E8-420 PG008-1S80-Q2 7 105 100 108 125 114 110 205 227 236 245 217 226 04-Nov-14 05-Nov-14 \n",
            "\n",
            "8 S020443 C7EA-410 PG159-1S80-02 7 100 116 115 116 108 111 200 217 231 204 208 212 04-Nov-14 05-Nov-14 \n",
            "\n",
            "9 S01S848 A2E8-602 MR014-6SBO-o6 7 108 120 104 120 111 113 211 221 240 249 212 227 04-Nov-14 05-Nov-14 \n",
            "\n",
            "10 S019248 A2EL-S52 AM142-1SA0.06 7 110 125 113 123 103 115 208 226 235 201 216 217 04-Nov-14 05-Nov-14 \n",
            "\n",
            "11 S020403 C4E8-700 CFOS0-1SB0-01 7 103 115 109 115 11S 111 203 216 230 244 207 220 04-Nov-14 05-Nov-14 \n",
            "\n",
            "12 S030627 A2EM-552 AM210-3SA0-01 7 113 119 105 119 107 113 207 220 239 248 211 225 04-Nov-14 05-Nov-14 \n",
            "\n",
            "13 S046618 A2EA-702 CF090-1SBOV-07 7 109 124 110 100 110 111 212 225 234 200 215 217 04-Nov-14 05-Nov-14 \n",
            "\n",
            "14 S028601 A1EP-701 DC133-6S80-02 7 104 114 106 114 102 108 204 21S 229 243 206 219 04-NOV-14 05-NOV-14 \n",
            "\n",
            "\n"
          ],
          "name": "stdout"
        }
      ]
    },
    {
      "cell_type": "code",
      "metadata": {
        "id": "GfAXhkvfvFqZ",
        "colab_type": "code",
        "outputId": "c9588236-4ba8-42f1-b30d-d52f2a4fde22",
        "colab": {
          "base_uri": "https://localhost:8080/",
          "height": 3545
        }
      },
      "source": [
        "col_names = [\"top_coat_date\", \"blast_primer_date\"\n",
        "             ,\"dft1_ave\", \"dft1_5\", \"dft1_4\", \"dft1_3\", \"dft1_2\", \"dft1_1\"\n",
        "             ,\"dft2_ave\", \"dft2_5\", \"dft2_4\", \"dft2_3\", \"dft2_2\", \"dft2_1\"]\n",
        "cols = {}\n",
        "\n",
        "def get_col():\n",
        "  global r\n",
        "  r = r.strip()\n",
        "  val = r[r.rfind(\" \") : len(r)]\n",
        "  r = r[0 : r.rfind(\" \")]\n",
        "  print(r)\n",
        "  return val\n",
        "\n",
        "for row in [x for x in table.splitlines() if x]:\n",
        "  row = row.strip()\n",
        "  row = re.sub(\"-\\s*$\", \"\", row)\n",
        "\n",
        "  global r\n",
        "  r = row\n",
        "  \n",
        "  for col_name in col_names:\n",
        "    col_val = get_col()\n",
        "    cols[col_name] = col_val\n",
        "  \n",
        "#   for k,v in cols.items():\n",
        "#     print(\"{0}:{1}\".format(k,v))\n",
        "    \n",
        "#   last_space = row.rfind(\" \")\n",
        "#   row_end = len(row)\n",
        "#   top_coat_date = row[last_space : row_end]\n",
        "#   print(\"last space:%i\" % last_space)\n",
        "#   print(\"row end:%i\" % row_end)\n",
        "  \n"
      ],
      "execution_count": 21,
      "outputs": [
        {
          "output_type": "stream",
          "text": [
            "\n",
            "\n",
            "\n",
            "\n",
            "\n",
            "\n",
            "\n",
            "\n",
            "\n",
            "\n",
            "\n",
            "\n",
            "\n",
            "\n",
            "1 S031109 A2EL-SS2 AM146-1SAO-HK-01 7 107 123 102 124 106 112 209 224 238 247 210 226 04-Nov-14\n",
            "1 S031109 A2EL-SS2 AM146-1SAO-HK-01 7 107 123 102 124 106 112 209 224 238 247 210 226\n",
            "1 S031109 A2EL-SS2 AM146-1SAO-HK-01 7 107 123 102 124 106 112 209 224 238 247 210\n",
            "1 S031109 A2EL-SS2 AM146-1SAO-HK-01 7 107 123 102 124 106 112 209 224 238 247\n",
            "1 S031109 A2EL-SS2 AM146-1SAO-HK-01 7 107 123 102 124 106 112 209 224 238\n",
            "1 S031109 A2EL-SS2 AM146-1SAO-HK-01 7 107 123 102 124 106 112 209 224\n",
            "1 S031109 A2EL-SS2 AM146-1SAO-HK-01 7 107 123 102 124 106 112 209\n",
            "1 S031109 A2EL-SS2 AM146-1SAO-HK-01 7 107 123 102 124 106 112\n",
            "1 S031109 A2EL-SS2 AM146-1SAO-HK-01 7 107 123 102 124 106\n",
            "1 S031109 A2EL-SS2 AM146-1SAO-HK-01 7 107 123 102 124\n",
            "1 S031109 A2EL-SS2 AM146-1SAO-HK-01 7 107 123 102\n",
            "1 S031109 A2EL-SS2 AM146-1SAO-HK-01 7 107 123\n",
            "1 S031109 A2EL-SS2 AM146-1SAO-HK-01 7 107\n",
            "1 S031109 A2EL-SS2 AM146-1SAO-HK-01 7\n",
            "J20113 A2ED-702 CF241-1SBOV-02 7 102 118 111 118 113 112 202 219 233 203 219 215 04-Nov-14\n",
            "J20113 A2ED-702 CF241-1SBOV-02 7 102 118 111 118 113 112 202 219 233 203 219 215\n",
            "J20113 A2ED-702 CF241-1SBOV-02 7 102 118 111 118 113 112 202 219 233 203 219\n",
            "J20113 A2ED-702 CF241-1SBOV-02 7 102 118 111 118 113 112 202 219 233 203\n",
            "J20113 A2ED-702 CF241-1SBOV-02 7 102 118 111 118 113 112 202 219 233\n",
            "J20113 A2ED-702 CF241-1SBOV-02 7 102 118 111 118 113 112 202 219\n",
            "J20113 A2ED-702 CF241-1SBOV-02 7 102 118 111 118 113 112 202\n",
            "J20113 A2ED-702 CF241-1SBOV-02 7 102 118 111 118 113 112\n",
            "J20113 A2ED-702 CF241-1SBOV-02 7 102 118 111 118 113\n",
            "J20113 A2ED-702 CF241-1SBOV-02 7 102 118 111 118\n",
            "J20113 A2ED-702 CF241-1SBOV-02 7 102 118 111\n",
            "J20113 A2ED-702 CF241-1SBOV-02 7 102 118\n",
            "J20113 A2ED-702 CF241-1SBOV-02 7 102\n",
            "J20113 A2ED-702 CF241-1SBOV-02 7\n",
            "3 S046836, A2EB-582 PL033-6S80-03 7 112 122 107 122 105 114 213 223 242 246 214 228 04-Nov-14\n",
            "3 S046836, A2EB-582 PL033-6S80-03 7 112 122 107 122 105 114 213 223 242 246 214 228\n",
            "3 S046836, A2EB-582 PL033-6S80-03 7 112 122 107 122 105 114 213 223 242 246 214\n",
            "3 S046836, A2EB-582 PL033-6S80-03 7 112 122 107 122 105 114 213 223 242 246\n",
            "3 S046836, A2EB-582 PL033-6S80-03 7 112 122 107 122 105 114 213 223 242\n",
            "3 S046836, A2EB-582 PL033-6S80-03 7 112 122 107 122 105 114 213 223\n",
            "3 S046836, A2EB-582 PL033-6S80-03 7 112 122 107 122 105 114 213\n",
            "3 S046836, A2EB-582 PL033-6S80-03 7 112 122 107 122 105 114\n",
            "3 S046836, A2EB-582 PL033-6S80-03 7 112 122 107 122 105\n",
            "3 S046836, A2EB-582 PL033-6S80-03 7 112 122 107 122\n",
            "3 S046836, A2EB-582 PL033-6S80-03 7 112 122 107\n",
            "3 S046836, A2EB-582 PL033-6S80-03 7 112 122\n",
            "3 S046836, A2EB-582 PL033-6S80-03 7 112\n",
            "3 S046836, A2EB-582 PL033-6S80-03 7\n",
            "4 5014458 A2EA-S92 PG015-1SCO-Q5 7 106 101 114 101 109 106 206 228 237 205 209 217 04-Nov-14\n",
            "4 5014458 A2EA-S92 PG015-1SCO-Q5 7 106 101 114 101 109 106 206 228 237 205 209 217\n",
            "4 5014458 A2EA-S92 PG015-1SCO-Q5 7 106 101 114 101 109 106 206 228 237 205 209\n",
            "4 5014458 A2EA-S92 PG015-1SCO-Q5 7 106 101 114 101 109 106 206 228 237 205\n",
            "4 5014458 A2EA-S92 PG015-1SCO-Q5 7 106 101 114 101 109 106 206 228 237\n",
            "4 5014458 A2EA-S92 PG015-1SCO-Q5 7 106 101 114 101 109 106 206 228\n",
            "4 5014458 A2EA-S92 PG015-1SCO-Q5 7 106 101 114 101 109 106 206\n",
            "4 5014458 A2EA-S92 PG015-1SCO-Q5 7 106 101 114 101 109 106\n",
            "4 5014458 A2EA-S92 PG015-1SCO-Q5 7 106 101 114 101 109\n",
            "4 5014458 A2EA-S92 PG015-1SCO-Q5 7 106 101 114 101\n",
            "4 5014458 A2EA-S92 PG015-1SCO-Q5 7 106 101 114\n",
            "4 5014458 A2EA-S92 PG015-1SCO-Q5 7 106 101\n",
            "4 5014458 A2EA-S92 PG015-1SCO-Q5 7 106\n",
            "4 5014458 A2EA-S92 PG015-1SCO-Q5 7\n",
            "5 S042449 A2El-SS2 AM005-1SA0-19 7 101 117 103 117 112 110 201 218 232 250 218 224 04-Nov-14\n",
            "5 S042449 A2El-SS2 AM005-1SA0-19 7 101 117 103 117 112 110 201 218 232 250 218 224\n",
            "5 S042449 A2El-SS2 AM005-1SA0-19 7 101 117 103 117 112 110 201 218 232 250 218\n",
            "5 S042449 A2El-SS2 AM005-1SA0-19 7 101 117 103 117 112 110 201 218 232 250\n",
            "5 S042449 A2El-SS2 AM005-1SA0-19 7 101 117 103 117 112 110 201 218 232\n",
            "5 S042449 A2El-SS2 AM005-1SA0-19 7 101 117 103 117 112 110 201 218\n",
            "5 S042449 A2El-SS2 AM005-1SA0-19 7 101 117 103 117 112 110 201\n",
            "5 S042449 A2El-SS2 AM005-1SA0-19 7 101 117 103 117 112 110\n",
            "5 S042449 A2El-SS2 AM005-1SA0-19 7 101 117 103 117 112\n",
            "5 S042449 A2El-SS2 AM005-1SA0-19 7 101 117 103 117\n",
            "5 S042449 A2El-SS2 AM005-1SA0-19 7 101 117 103\n",
            "5 S042449 A2El-SS2 AM005-1SA0-19 7 101 117\n",
            "5 S042449 A2El-SS2 AM005-1SA0-19 7 101\n",
            "5 S042449 A2El-SS2 AM005-1SA0-19 7\n",
            "6 S013917 A2EA-712 WS008-1SA0-05 7 111 121 112 121 104 114 210 222 241 202 213 218 04-Nov-14\n",
            "6 S013917 A2EA-712 WS008-1SA0-05 7 111 121 112 121 104 114 210 222 241 202 213 218\n",
            "6 S013917 A2EA-712 WS008-1SA0-05 7 111 121 112 121 104 114 210 222 241 202 213\n",
            "6 S013917 A2EA-712 WS008-1SA0-05 7 111 121 112 121 104 114 210 222 241 202\n",
            "6 S013917 A2EA-712 WS008-1SA0-05 7 111 121 112 121 104 114 210 222 241\n",
            "6 S013917 A2EA-712 WS008-1SA0-05 7 111 121 112 121 104 114 210 222\n",
            "6 S013917 A2EA-712 WS008-1SA0-05 7 111 121 112 121 104 114 210\n",
            "6 S013917 A2EA-712 WS008-1SA0-05 7 111 121 112 121 104 114\n",
            "6 S013917 A2EA-712 WS008-1SA0-05 7 111 121 112 121 104\n",
            "6 S013917 A2EA-712 WS008-1SA0-05 7 111 121 112 121\n",
            "6 S013917 A2EA-712 WS008-1SA0-05 7 111 121 112\n",
            "6 S013917 A2EA-712 WS008-1SA0-05 7 111 121\n",
            "6 S013917 A2EA-712 WS008-1SA0-05 7 111\n",
            "6 S013917 A2EA-712 WS008-1SA0-05 7\n",
            "7 S024105 C4E8-420 PG008-1S80-Q2 7 105 100 108 125 114 110 205 227 236 245 217 226 04-Nov-14\n",
            "7 S024105 C4E8-420 PG008-1S80-Q2 7 105 100 108 125 114 110 205 227 236 245 217 226\n",
            "7 S024105 C4E8-420 PG008-1S80-Q2 7 105 100 108 125 114 110 205 227 236 245 217\n",
            "7 S024105 C4E8-420 PG008-1S80-Q2 7 105 100 108 125 114 110 205 227 236 245\n",
            "7 S024105 C4E8-420 PG008-1S80-Q2 7 105 100 108 125 114 110 205 227 236\n",
            "7 S024105 C4E8-420 PG008-1S80-Q2 7 105 100 108 125 114 110 205 227\n",
            "7 S024105 C4E8-420 PG008-1S80-Q2 7 105 100 108 125 114 110 205\n",
            "7 S024105 C4E8-420 PG008-1S80-Q2 7 105 100 108 125 114 110\n",
            "7 S024105 C4E8-420 PG008-1S80-Q2 7 105 100 108 125 114\n",
            "7 S024105 C4E8-420 PG008-1S80-Q2 7 105 100 108 125\n",
            "7 S024105 C4E8-420 PG008-1S80-Q2 7 105 100 108\n",
            "7 S024105 C4E8-420 PG008-1S80-Q2 7 105 100\n",
            "7 S024105 C4E8-420 PG008-1S80-Q2 7 105\n",
            "7 S024105 C4E8-420 PG008-1S80-Q2 7\n",
            "8 S020443 C7EA-410 PG159-1S80-02 7 100 116 115 116 108 111 200 217 231 204 208 212 04-Nov-14\n",
            "8 S020443 C7EA-410 PG159-1S80-02 7 100 116 115 116 108 111 200 217 231 204 208 212\n",
            "8 S020443 C7EA-410 PG159-1S80-02 7 100 116 115 116 108 111 200 217 231 204 208\n",
            "8 S020443 C7EA-410 PG159-1S80-02 7 100 116 115 116 108 111 200 217 231 204\n",
            "8 S020443 C7EA-410 PG159-1S80-02 7 100 116 115 116 108 111 200 217 231\n",
            "8 S020443 C7EA-410 PG159-1S80-02 7 100 116 115 116 108 111 200 217\n",
            "8 S020443 C7EA-410 PG159-1S80-02 7 100 116 115 116 108 111 200\n",
            "8 S020443 C7EA-410 PG159-1S80-02 7 100 116 115 116 108 111\n",
            "8 S020443 C7EA-410 PG159-1S80-02 7 100 116 115 116 108\n",
            "8 S020443 C7EA-410 PG159-1S80-02 7 100 116 115 116\n",
            "8 S020443 C7EA-410 PG159-1S80-02 7 100 116 115\n",
            "8 S020443 C7EA-410 PG159-1S80-02 7 100 116\n",
            "8 S020443 C7EA-410 PG159-1S80-02 7 100\n",
            "8 S020443 C7EA-410 PG159-1S80-02 7\n",
            "9 S01S848 A2E8-602 MR014-6SBO-o6 7 108 120 104 120 111 113 211 221 240 249 212 227 04-Nov-14\n",
            "9 S01S848 A2E8-602 MR014-6SBO-o6 7 108 120 104 120 111 113 211 221 240 249 212 227\n",
            "9 S01S848 A2E8-602 MR014-6SBO-o6 7 108 120 104 120 111 113 211 221 240 249 212\n",
            "9 S01S848 A2E8-602 MR014-6SBO-o6 7 108 120 104 120 111 113 211 221 240 249\n",
            "9 S01S848 A2E8-602 MR014-6SBO-o6 7 108 120 104 120 111 113 211 221 240\n",
            "9 S01S848 A2E8-602 MR014-6SBO-o6 7 108 120 104 120 111 113 211 221\n",
            "9 S01S848 A2E8-602 MR014-6SBO-o6 7 108 120 104 120 111 113 211\n",
            "9 S01S848 A2E8-602 MR014-6SBO-o6 7 108 120 104 120 111 113\n",
            "9 S01S848 A2E8-602 MR014-6SBO-o6 7 108 120 104 120 111\n",
            "9 S01S848 A2E8-602 MR014-6SBO-o6 7 108 120 104 120\n",
            "9 S01S848 A2E8-602 MR014-6SBO-o6 7 108 120 104\n",
            "9 S01S848 A2E8-602 MR014-6SBO-o6 7 108 120\n",
            "9 S01S848 A2E8-602 MR014-6SBO-o6 7 108\n",
            "9 S01S848 A2E8-602 MR014-6SBO-o6 7\n",
            "10 S019248 A2EL-S52 AM142-1SA0.06 7 110 125 113 123 103 115 208 226 235 201 216 217 04-Nov-14\n",
            "10 S019248 A2EL-S52 AM142-1SA0.06 7 110 125 113 123 103 115 208 226 235 201 216 217\n",
            "10 S019248 A2EL-S52 AM142-1SA0.06 7 110 125 113 123 103 115 208 226 235 201 216\n",
            "10 S019248 A2EL-S52 AM142-1SA0.06 7 110 125 113 123 103 115 208 226 235 201\n",
            "10 S019248 A2EL-S52 AM142-1SA0.06 7 110 125 113 123 103 115 208 226 235\n",
            "10 S019248 A2EL-S52 AM142-1SA0.06 7 110 125 113 123 103 115 208 226\n",
            "10 S019248 A2EL-S52 AM142-1SA0.06 7 110 125 113 123 103 115 208\n",
            "10 S019248 A2EL-S52 AM142-1SA0.06 7 110 125 113 123 103 115\n",
            "10 S019248 A2EL-S52 AM142-1SA0.06 7 110 125 113 123 103\n",
            "10 S019248 A2EL-S52 AM142-1SA0.06 7 110 125 113 123\n",
            "10 S019248 A2EL-S52 AM142-1SA0.06 7 110 125 113\n",
            "10 S019248 A2EL-S52 AM142-1SA0.06 7 110 125\n",
            "10 S019248 A2EL-S52 AM142-1SA0.06 7 110\n",
            "10 S019248 A2EL-S52 AM142-1SA0.06 7\n",
            "11 S020403 C4E8-700 CFOS0-1SB0-01 7 103 115 109 115 11S 111 203 216 230 244 207 220 04-Nov-14\n",
            "11 S020403 C4E8-700 CFOS0-1SB0-01 7 103 115 109 115 11S 111 203 216 230 244 207 220\n",
            "11 S020403 C4E8-700 CFOS0-1SB0-01 7 103 115 109 115 11S 111 203 216 230 244 207\n",
            "11 S020403 C4E8-700 CFOS0-1SB0-01 7 103 115 109 115 11S 111 203 216 230 244\n",
            "11 S020403 C4E8-700 CFOS0-1SB0-01 7 103 115 109 115 11S 111 203 216 230\n",
            "11 S020403 C4E8-700 CFOS0-1SB0-01 7 103 115 109 115 11S 111 203 216\n",
            "11 S020403 C4E8-700 CFOS0-1SB0-01 7 103 115 109 115 11S 111 203\n",
            "11 S020403 C4E8-700 CFOS0-1SB0-01 7 103 115 109 115 11S 111\n",
            "11 S020403 C4E8-700 CFOS0-1SB0-01 7 103 115 109 115 11S\n",
            "11 S020403 C4E8-700 CFOS0-1SB0-01 7 103 115 109 115\n",
            "11 S020403 C4E8-700 CFOS0-1SB0-01 7 103 115 109\n",
            "11 S020403 C4E8-700 CFOS0-1SB0-01 7 103 115\n",
            "11 S020403 C4E8-700 CFOS0-1SB0-01 7 103\n",
            "11 S020403 C4E8-700 CFOS0-1SB0-01 7\n",
            "12 S030627 A2EM-552 AM210-3SA0-01 7 113 119 105 119 107 113 207 220 239 248 211 225 04-Nov-14\n",
            "12 S030627 A2EM-552 AM210-3SA0-01 7 113 119 105 119 107 113 207 220 239 248 211 225\n",
            "12 S030627 A2EM-552 AM210-3SA0-01 7 113 119 105 119 107 113 207 220 239 248 211\n",
            "12 S030627 A2EM-552 AM210-3SA0-01 7 113 119 105 119 107 113 207 220 239 248\n",
            "12 S030627 A2EM-552 AM210-3SA0-01 7 113 119 105 119 107 113 207 220 239\n",
            "12 S030627 A2EM-552 AM210-3SA0-01 7 113 119 105 119 107 113 207 220\n",
            "12 S030627 A2EM-552 AM210-3SA0-01 7 113 119 105 119 107 113 207\n",
            "12 S030627 A2EM-552 AM210-3SA0-01 7 113 119 105 119 107 113\n",
            "12 S030627 A2EM-552 AM210-3SA0-01 7 113 119 105 119 107\n",
            "12 S030627 A2EM-552 AM210-3SA0-01 7 113 119 105 119\n",
            "12 S030627 A2EM-552 AM210-3SA0-01 7 113 119 105\n",
            "12 S030627 A2EM-552 AM210-3SA0-01 7 113 119\n",
            "12 S030627 A2EM-552 AM210-3SA0-01 7 113\n",
            "12 S030627 A2EM-552 AM210-3SA0-01 7\n",
            "13 S046618 A2EA-702 CF090-1SBOV-07 7 109 124 110 100 110 111 212 225 234 200 215 217 04-Nov-14\n",
            "13 S046618 A2EA-702 CF090-1SBOV-07 7 109 124 110 100 110 111 212 225 234 200 215 217\n",
            "13 S046618 A2EA-702 CF090-1SBOV-07 7 109 124 110 100 110 111 212 225 234 200 215\n",
            "13 S046618 A2EA-702 CF090-1SBOV-07 7 109 124 110 100 110 111 212 225 234 200\n",
            "13 S046618 A2EA-702 CF090-1SBOV-07 7 109 124 110 100 110 111 212 225 234\n",
            "13 S046618 A2EA-702 CF090-1SBOV-07 7 109 124 110 100 110 111 212 225\n",
            "13 S046618 A2EA-702 CF090-1SBOV-07 7 109 124 110 100 110 111 212\n",
            "13 S046618 A2EA-702 CF090-1SBOV-07 7 109 124 110 100 110 111\n",
            "13 S046618 A2EA-702 CF090-1SBOV-07 7 109 124 110 100 110\n",
            "13 S046618 A2EA-702 CF090-1SBOV-07 7 109 124 110 100\n",
            "13 S046618 A2EA-702 CF090-1SBOV-07 7 109 124 110\n",
            "13 S046618 A2EA-702 CF090-1SBOV-07 7 109 124\n",
            "13 S046618 A2EA-702 CF090-1SBOV-07 7 109\n",
            "13 S046618 A2EA-702 CF090-1SBOV-07 7\n",
            "14 S028601 A1EP-701 DC133-6S80-02 7 104 114 106 114 102 108 204 21S 229 243 206 219 04-NOV-14\n",
            "14 S028601 A1EP-701 DC133-6S80-02 7 104 114 106 114 102 108 204 21S 229 243 206 219\n",
            "14 S028601 A1EP-701 DC133-6S80-02 7 104 114 106 114 102 108 204 21S 229 243 206\n",
            "14 S028601 A1EP-701 DC133-6S80-02 7 104 114 106 114 102 108 204 21S 229 243\n",
            "14 S028601 A1EP-701 DC133-6S80-02 7 104 114 106 114 102 108 204 21S 229\n",
            "14 S028601 A1EP-701 DC133-6S80-02 7 104 114 106 114 102 108 204 21S\n",
            "14 S028601 A1EP-701 DC133-6S80-02 7 104 114 106 114 102 108 204\n",
            "14 S028601 A1EP-701 DC133-6S80-02 7 104 114 106 114 102 108\n",
            "14 S028601 A1EP-701 DC133-6S80-02 7 104 114 106 114 102\n",
            "14 S028601 A1EP-701 DC133-6S80-02 7 104 114 106 114\n",
            "14 S028601 A1EP-701 DC133-6S80-02 7 104 114 106\n",
            "14 S028601 A1EP-701 DC133-6S80-02 7 104 114\n",
            "14 S028601 A1EP-701 DC133-6S80-02 7 104\n",
            "14 S028601 A1EP-701 DC133-6S80-02 7\n"
          ],
          "name": "stdout"
        }
      ]
    },
    {
      "cell_type": "markdown",
      "metadata": {
        "id": "ayHRHmeKiAaR",
        "colab_type": "text"
      },
      "source": [
        ""
      ]
    }
  ]
}